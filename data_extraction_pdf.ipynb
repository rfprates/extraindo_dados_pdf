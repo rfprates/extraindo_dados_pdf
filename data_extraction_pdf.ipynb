{
 "cells": [
  {
   "cell_type": "markdown",
   "metadata": {},
   "source": [
    "# Extraindo dados de um arquivo pdf para análise de vendas"
   ]
  },
  {
   "cell_type": "markdown",
   "metadata": {},
   "source": [
    "# Introdução\n",
    "\n",
    "Uma plataforma de e-commerce de moda necessita extrair dados de um arquivo pdf para investigar as métricas-chave relacionadas aos produtos da empresa."
   ]
  },
  {
   "cell_type": "markdown",
   "metadata": {},
   "source": [
    "## Objetivo do projeto\n",
    "\n",
    "Desenvolver as seguintes métricas:\n",
    "\n",
    "* Lucro por produto;\n",
    "* Produto mais lucrativo;\n",
    "* Produtos mais e menos vendidos;\n",
    "* 5 primeiros clientes que mais compram;\n",
    "* Frequência de compra por cliente."
   ]
  },
  {
   "cell_type": "markdown",
   "metadata": {},
   "source": [
    "## Importando os dados do arquivo pdf"
   ]
  },
  {
   "cell_type": "markdown",
   "metadata": {},
   "source": [
    "Para realizar a importação do dataset que se encontra em um arquivo pdf, é necessário a instalação da biblioteca Tabula. Feito isso, importa-se tal biblioteca para leitura do arquivo."
   ]
  },
  {
   "cell_type": "code",
   "execution_count": 1,
   "metadata": {},
   "outputs": [],
   "source": [
    "import tabula\n",
    "\n",
    "path = 'sales_data - dataset.pdf'\n",
    "sales = tabula.read_pdf(input_path = path, stream = True, pages = 1, multiple_tables = False)"
   ]
  },
  {
   "cell_type": "markdown",
   "metadata": {},
   "source": [
    "Visualizando os dados importados,"
   ]
  },
  {
   "cell_type": "code",
   "execution_count": 2,
   "metadata": {},
   "outputs": [
    {
     "data": {
      "text/plain": [
       "[     sale_id                      sale_date customer    product  quantity  \\\n",
       " 0          0            2020-01-01 00:00:00     José  Produto C         4   \n",
       " 1          1  2020-01-01 17:33:18.396793587    Paulo  Produto A         9   \n",
       " 2          2  2020-01-02 11:06:36.793587174     José  Produto C         1   \n",
       " 3          3  2020-01-03 04:39:55.190380761    Maria  Produto B         9   \n",
       " 4          4  2020-01-03 22:13:13.587174348      Ana  Produto B         8   \n",
       " ..       ...                            ...      ...        ...       ...   \n",
       " 495      495  2020-12-28 01:46:46.412825652    Paulo  Produto C         5   \n",
       " 496      496  2020-12-28 19:20:04.809619236     José  Produto A         5   \n",
       " 497      497  2020-12-29 12:53:23.206412824    Maria  Produto C         3   \n",
       " 498      498  2020-12-30 06:26:41.603206412    Maria  Produto B         2   \n",
       " 499      499            2020-12-31 00:00:00    Paulo  Produto B         9   \n",
       " \n",
       "      unit_price  total_sale  month  year        cost product_group  \n",
       " 0         32.18      128.72      1  2020  112.392212             C  \n",
       " 1         67.42      606.78      1  2020  505.560688             B  \n",
       " 2         14.92       14.92      1  2020   12.334824             A  \n",
       " 3         65.09      585.81      1  2020  472.851216             C  \n",
       " 4         28.02      224.16      1  2020  174.989413             B  \n",
       " ..          ...         ...    ...   ...         ...           ...  \n",
       " 495       76.71      383.55     12  2020  300.355944             A  \n",
       " 496       53.42      267.10     12  2020  192.526496             A  \n",
       " 497       64.18      192.54     12  2020  161.742229             B  \n",
       " 498       86.15      172.30     12  2020  145.558499             B  \n",
       " 499        5.96       53.64     12  2020   43.178814             C  \n",
       " \n",
       " [500 rows x 11 columns]]"
      ]
     },
     "execution_count": 2,
     "metadata": {},
     "output_type": "execute_result"
    }
   ],
   "source": [
    "sales"
   ]
  },
  {
   "cell_type": "markdown",
   "metadata": {},
   "source": [
    "Verificando-se o tipo de objeto importado,"
   ]
  },
  {
   "cell_type": "code",
   "execution_count": 3,
   "metadata": {},
   "outputs": [
    {
     "data": {
      "text/plain": [
       "list"
      ]
     },
     "execution_count": 3,
     "metadata": {},
     "output_type": "execute_result"
    }
   ],
   "source": [
    "type(sales)"
   ]
  },
  {
   "cell_type": "markdown",
   "metadata": {},
   "source": [
    "Percebe-se que tem-se um objeto do tipo lista. Para acessar somente a tabela com os dados de interesse, informamos a posição dela na lista, conforme abaixo descrito."
   ]
  },
  {
   "cell_type": "code",
   "execution_count": 4,
   "metadata": {},
   "outputs": [
    {
     "data": {
      "text/html": [
       "<div>\n",
       "<style scoped>\n",
       "    .dataframe tbody tr th:only-of-type {\n",
       "        vertical-align: middle;\n",
       "    }\n",
       "\n",
       "    .dataframe tbody tr th {\n",
       "        vertical-align: top;\n",
       "    }\n",
       "\n",
       "    .dataframe thead th {\n",
       "        text-align: right;\n",
       "    }\n",
       "</style>\n",
       "<table border=\"1\" class=\"dataframe\">\n",
       "  <thead>\n",
       "    <tr style=\"text-align: right;\">\n",
       "      <th></th>\n",
       "      <th>sale_id</th>\n",
       "      <th>sale_date</th>\n",
       "      <th>customer</th>\n",
       "      <th>product</th>\n",
       "      <th>quantity</th>\n",
       "      <th>unit_price</th>\n",
       "      <th>total_sale</th>\n",
       "      <th>month</th>\n",
       "      <th>year</th>\n",
       "      <th>cost</th>\n",
       "      <th>product_group</th>\n",
       "    </tr>\n",
       "  </thead>\n",
       "  <tbody>\n",
       "    <tr>\n",
       "      <th>0</th>\n",
       "      <td>0</td>\n",
       "      <td>2020-01-01 00:00:00</td>\n",
       "      <td>José</td>\n",
       "      <td>Produto C</td>\n",
       "      <td>4</td>\n",
       "      <td>32.18</td>\n",
       "      <td>128.72</td>\n",
       "      <td>1</td>\n",
       "      <td>2020</td>\n",
       "      <td>112.392212</td>\n",
       "      <td>C</td>\n",
       "    </tr>\n",
       "    <tr>\n",
       "      <th>1</th>\n",
       "      <td>1</td>\n",
       "      <td>2020-01-01 17:33:18.396793587</td>\n",
       "      <td>Paulo</td>\n",
       "      <td>Produto A</td>\n",
       "      <td>9</td>\n",
       "      <td>67.42</td>\n",
       "      <td>606.78</td>\n",
       "      <td>1</td>\n",
       "      <td>2020</td>\n",
       "      <td>505.560688</td>\n",
       "      <td>B</td>\n",
       "    </tr>\n",
       "    <tr>\n",
       "      <th>2</th>\n",
       "      <td>2</td>\n",
       "      <td>2020-01-02 11:06:36.793587174</td>\n",
       "      <td>José</td>\n",
       "      <td>Produto C</td>\n",
       "      <td>1</td>\n",
       "      <td>14.92</td>\n",
       "      <td>14.92</td>\n",
       "      <td>1</td>\n",
       "      <td>2020</td>\n",
       "      <td>12.334824</td>\n",
       "      <td>A</td>\n",
       "    </tr>\n",
       "    <tr>\n",
       "      <th>3</th>\n",
       "      <td>3</td>\n",
       "      <td>2020-01-03 04:39:55.190380761</td>\n",
       "      <td>Maria</td>\n",
       "      <td>Produto B</td>\n",
       "      <td>9</td>\n",
       "      <td>65.09</td>\n",
       "      <td>585.81</td>\n",
       "      <td>1</td>\n",
       "      <td>2020</td>\n",
       "      <td>472.851216</td>\n",
       "      <td>C</td>\n",
       "    </tr>\n",
       "    <tr>\n",
       "      <th>4</th>\n",
       "      <td>4</td>\n",
       "      <td>2020-01-03 22:13:13.587174348</td>\n",
       "      <td>Ana</td>\n",
       "      <td>Produto B</td>\n",
       "      <td>8</td>\n",
       "      <td>28.02</td>\n",
       "      <td>224.16</td>\n",
       "      <td>1</td>\n",
       "      <td>2020</td>\n",
       "      <td>174.989413</td>\n",
       "      <td>B</td>\n",
       "    </tr>\n",
       "    <tr>\n",
       "      <th>...</th>\n",
       "      <td>...</td>\n",
       "      <td>...</td>\n",
       "      <td>...</td>\n",
       "      <td>...</td>\n",
       "      <td>...</td>\n",
       "      <td>...</td>\n",
       "      <td>...</td>\n",
       "      <td>...</td>\n",
       "      <td>...</td>\n",
       "      <td>...</td>\n",
       "      <td>...</td>\n",
       "    </tr>\n",
       "    <tr>\n",
       "      <th>495</th>\n",
       "      <td>495</td>\n",
       "      <td>2020-12-28 01:46:46.412825652</td>\n",
       "      <td>Paulo</td>\n",
       "      <td>Produto C</td>\n",
       "      <td>5</td>\n",
       "      <td>76.71</td>\n",
       "      <td>383.55</td>\n",
       "      <td>12</td>\n",
       "      <td>2020</td>\n",
       "      <td>300.355944</td>\n",
       "      <td>A</td>\n",
       "    </tr>\n",
       "    <tr>\n",
       "      <th>496</th>\n",
       "      <td>496</td>\n",
       "      <td>2020-12-28 19:20:04.809619236</td>\n",
       "      <td>José</td>\n",
       "      <td>Produto A</td>\n",
       "      <td>5</td>\n",
       "      <td>53.42</td>\n",
       "      <td>267.10</td>\n",
       "      <td>12</td>\n",
       "      <td>2020</td>\n",
       "      <td>192.526496</td>\n",
       "      <td>A</td>\n",
       "    </tr>\n",
       "    <tr>\n",
       "      <th>497</th>\n",
       "      <td>497</td>\n",
       "      <td>2020-12-29 12:53:23.206412824</td>\n",
       "      <td>Maria</td>\n",
       "      <td>Produto C</td>\n",
       "      <td>3</td>\n",
       "      <td>64.18</td>\n",
       "      <td>192.54</td>\n",
       "      <td>12</td>\n",
       "      <td>2020</td>\n",
       "      <td>161.742229</td>\n",
       "      <td>B</td>\n",
       "    </tr>\n",
       "    <tr>\n",
       "      <th>498</th>\n",
       "      <td>498</td>\n",
       "      <td>2020-12-30 06:26:41.603206412</td>\n",
       "      <td>Maria</td>\n",
       "      <td>Produto B</td>\n",
       "      <td>2</td>\n",
       "      <td>86.15</td>\n",
       "      <td>172.30</td>\n",
       "      <td>12</td>\n",
       "      <td>2020</td>\n",
       "      <td>145.558499</td>\n",
       "      <td>B</td>\n",
       "    </tr>\n",
       "    <tr>\n",
       "      <th>499</th>\n",
       "      <td>499</td>\n",
       "      <td>2020-12-31 00:00:00</td>\n",
       "      <td>Paulo</td>\n",
       "      <td>Produto B</td>\n",
       "      <td>9</td>\n",
       "      <td>5.96</td>\n",
       "      <td>53.64</td>\n",
       "      <td>12</td>\n",
       "      <td>2020</td>\n",
       "      <td>43.178814</td>\n",
       "      <td>C</td>\n",
       "    </tr>\n",
       "  </tbody>\n",
       "</table>\n",
       "<p>500 rows × 11 columns</p>\n",
       "</div>"
      ],
      "text/plain": [
       "     sale_id                      sale_date customer    product  quantity  \\\n",
       "0          0            2020-01-01 00:00:00     José  Produto C         4   \n",
       "1          1  2020-01-01 17:33:18.396793587    Paulo  Produto A         9   \n",
       "2          2  2020-01-02 11:06:36.793587174     José  Produto C         1   \n",
       "3          3  2020-01-03 04:39:55.190380761    Maria  Produto B         9   \n",
       "4          4  2020-01-03 22:13:13.587174348      Ana  Produto B         8   \n",
       "..       ...                            ...      ...        ...       ...   \n",
       "495      495  2020-12-28 01:46:46.412825652    Paulo  Produto C         5   \n",
       "496      496  2020-12-28 19:20:04.809619236     José  Produto A         5   \n",
       "497      497  2020-12-29 12:53:23.206412824    Maria  Produto C         3   \n",
       "498      498  2020-12-30 06:26:41.603206412    Maria  Produto B         2   \n",
       "499      499            2020-12-31 00:00:00    Paulo  Produto B         9   \n",
       "\n",
       "     unit_price  total_sale  month  year        cost product_group  \n",
       "0         32.18      128.72      1  2020  112.392212             C  \n",
       "1         67.42      606.78      1  2020  505.560688             B  \n",
       "2         14.92       14.92      1  2020   12.334824             A  \n",
       "3         65.09      585.81      1  2020  472.851216             C  \n",
       "4         28.02      224.16      1  2020  174.989413             B  \n",
       "..          ...         ...    ...   ...         ...           ...  \n",
       "495       76.71      383.55     12  2020  300.355944             A  \n",
       "496       53.42      267.10     12  2020  192.526496             A  \n",
       "497       64.18      192.54     12  2020  161.742229             B  \n",
       "498       86.15      172.30     12  2020  145.558499             B  \n",
       "499        5.96       53.64     12  2020   43.178814             C  \n",
       "\n",
       "[500 rows x 11 columns]"
      ]
     },
     "execution_count": 4,
     "metadata": {},
     "output_type": "execute_result"
    }
   ],
   "source": [
    "sales[0]"
   ]
  },
  {
   "cell_type": "markdown",
   "metadata": {},
   "source": [
    "## Criando o Data Frame"
   ]
  },
  {
   "cell_type": "markdown",
   "metadata": {},
   "source": [
    "Agora, criou-se um Data Frame a partir da tabela de dados importada do arquivo pdf. Isto é necessário para serem feitas as métricas e posteriores plotagem dos resultados. Para isso, utilizou-se da biblioteca Pandas, conforme segue."
   ]
  },
  {
   "cell_type": "code",
   "execution_count": 137,
   "metadata": {},
   "outputs": [
    {
     "data": {
      "text/html": [
       "<div>\n",
       "<style scoped>\n",
       "    .dataframe tbody tr th:only-of-type {\n",
       "        vertical-align: middle;\n",
       "    }\n",
       "\n",
       "    .dataframe tbody tr th {\n",
       "        vertical-align: top;\n",
       "    }\n",
       "\n",
       "    .dataframe thead th {\n",
       "        text-align: right;\n",
       "    }\n",
       "</style>\n",
       "<table border=\"1\" class=\"dataframe\">\n",
       "  <thead>\n",
       "    <tr style=\"text-align: right;\">\n",
       "      <th></th>\n",
       "      <th>sale_id</th>\n",
       "      <th>sale_date</th>\n",
       "      <th>customer</th>\n",
       "      <th>product</th>\n",
       "      <th>quantity</th>\n",
       "      <th>unit_price</th>\n",
       "      <th>total_sale</th>\n",
       "      <th>month</th>\n",
       "      <th>year</th>\n",
       "      <th>cost</th>\n",
       "      <th>product_group</th>\n",
       "    </tr>\n",
       "  </thead>\n",
       "  <tbody>\n",
       "    <tr>\n",
       "      <th>0</th>\n",
       "      <td>0</td>\n",
       "      <td>2020-01-01 00:00:00</td>\n",
       "      <td>José</td>\n",
       "      <td>Produto C</td>\n",
       "      <td>4</td>\n",
       "      <td>32.18</td>\n",
       "      <td>128.72</td>\n",
       "      <td>1</td>\n",
       "      <td>2020</td>\n",
       "      <td>112.392212</td>\n",
       "      <td>C</td>\n",
       "    </tr>\n",
       "    <tr>\n",
       "      <th>1</th>\n",
       "      <td>1</td>\n",
       "      <td>2020-01-01 17:33:18.396793587</td>\n",
       "      <td>Paulo</td>\n",
       "      <td>Produto A</td>\n",
       "      <td>9</td>\n",
       "      <td>67.42</td>\n",
       "      <td>606.78</td>\n",
       "      <td>1</td>\n",
       "      <td>2020</td>\n",
       "      <td>505.560688</td>\n",
       "      <td>B</td>\n",
       "    </tr>\n",
       "    <tr>\n",
       "      <th>2</th>\n",
       "      <td>2</td>\n",
       "      <td>2020-01-02 11:06:36.793587174</td>\n",
       "      <td>José</td>\n",
       "      <td>Produto C</td>\n",
       "      <td>1</td>\n",
       "      <td>14.92</td>\n",
       "      <td>14.92</td>\n",
       "      <td>1</td>\n",
       "      <td>2020</td>\n",
       "      <td>12.334824</td>\n",
       "      <td>A</td>\n",
       "    </tr>\n",
       "    <tr>\n",
       "      <th>3</th>\n",
       "      <td>3</td>\n",
       "      <td>2020-01-03 04:39:55.190380761</td>\n",
       "      <td>Maria</td>\n",
       "      <td>Produto B</td>\n",
       "      <td>9</td>\n",
       "      <td>65.09</td>\n",
       "      <td>585.81</td>\n",
       "      <td>1</td>\n",
       "      <td>2020</td>\n",
       "      <td>472.851216</td>\n",
       "      <td>C</td>\n",
       "    </tr>\n",
       "    <tr>\n",
       "      <th>4</th>\n",
       "      <td>4</td>\n",
       "      <td>2020-01-03 22:13:13.587174348</td>\n",
       "      <td>Ana</td>\n",
       "      <td>Produto B</td>\n",
       "      <td>8</td>\n",
       "      <td>28.02</td>\n",
       "      <td>224.16</td>\n",
       "      <td>1</td>\n",
       "      <td>2020</td>\n",
       "      <td>174.989413</td>\n",
       "      <td>B</td>\n",
       "    </tr>\n",
       "  </tbody>\n",
       "</table>\n",
       "</div>"
      ],
      "text/plain": [
       "   sale_id                      sale_date customer    product  quantity  \\\n",
       "0        0            2020-01-01 00:00:00     José  Produto C         4   \n",
       "1        1  2020-01-01 17:33:18.396793587    Paulo  Produto A         9   \n",
       "2        2  2020-01-02 11:06:36.793587174     José  Produto C         1   \n",
       "3        3  2020-01-03 04:39:55.190380761    Maria  Produto B         9   \n",
       "4        4  2020-01-03 22:13:13.587174348      Ana  Produto B         8   \n",
       "\n",
       "   unit_price  total_sale  month  year        cost product_group  \n",
       "0       32.18      128.72      1  2020  112.392212             C  \n",
       "1       67.42      606.78      1  2020  505.560688             B  \n",
       "2       14.92       14.92      1  2020   12.334824             A  \n",
       "3       65.09      585.81      1  2020  472.851216             C  \n",
       "4       28.02      224.16      1  2020  174.989413             B  "
      ]
     },
     "execution_count": 137,
     "metadata": {},
     "output_type": "execute_result"
    }
   ],
   "source": [
    "import pandas as pd\n",
    "\n",
    "sales_df = pd.DataFrame(sales[0])\n",
    "sales_df.head()"
   ]
  },
  {
   "cell_type": "markdown",
   "metadata": {},
   "source": [
    "A fim de melhor organização dos dados no dataset, utilizou-se a coluna \"sale_id\" como index,"
   ]
  },
  {
   "cell_type": "code",
   "execution_count": 138,
   "metadata": {},
   "outputs": [
    {
     "data": {
      "text/html": [
       "<div>\n",
       "<style scoped>\n",
       "    .dataframe tbody tr th:only-of-type {\n",
       "        vertical-align: middle;\n",
       "    }\n",
       "\n",
       "    .dataframe tbody tr th {\n",
       "        vertical-align: top;\n",
       "    }\n",
       "\n",
       "    .dataframe thead th {\n",
       "        text-align: right;\n",
       "    }\n",
       "</style>\n",
       "<table border=\"1\" class=\"dataframe\">\n",
       "  <thead>\n",
       "    <tr style=\"text-align: right;\">\n",
       "      <th></th>\n",
       "      <th>sale_date</th>\n",
       "      <th>customer</th>\n",
       "      <th>product</th>\n",
       "      <th>quantity</th>\n",
       "      <th>unit_price</th>\n",
       "      <th>total_sale</th>\n",
       "      <th>month</th>\n",
       "      <th>year</th>\n",
       "      <th>cost</th>\n",
       "      <th>product_group</th>\n",
       "    </tr>\n",
       "    <tr>\n",
       "      <th>sale_id</th>\n",
       "      <th></th>\n",
       "      <th></th>\n",
       "      <th></th>\n",
       "      <th></th>\n",
       "      <th></th>\n",
       "      <th></th>\n",
       "      <th></th>\n",
       "      <th></th>\n",
       "      <th></th>\n",
       "      <th></th>\n",
       "    </tr>\n",
       "  </thead>\n",
       "  <tbody>\n",
       "    <tr>\n",
       "      <th>0</th>\n",
       "      <td>2020-01-01 00:00:00</td>\n",
       "      <td>José</td>\n",
       "      <td>Produto C</td>\n",
       "      <td>4</td>\n",
       "      <td>32.18</td>\n",
       "      <td>128.72</td>\n",
       "      <td>1</td>\n",
       "      <td>2020</td>\n",
       "      <td>112.392212</td>\n",
       "      <td>C</td>\n",
       "    </tr>\n",
       "    <tr>\n",
       "      <th>1</th>\n",
       "      <td>2020-01-01 17:33:18.396793587</td>\n",
       "      <td>Paulo</td>\n",
       "      <td>Produto A</td>\n",
       "      <td>9</td>\n",
       "      <td>67.42</td>\n",
       "      <td>606.78</td>\n",
       "      <td>1</td>\n",
       "      <td>2020</td>\n",
       "      <td>505.560688</td>\n",
       "      <td>B</td>\n",
       "    </tr>\n",
       "    <tr>\n",
       "      <th>2</th>\n",
       "      <td>2020-01-02 11:06:36.793587174</td>\n",
       "      <td>José</td>\n",
       "      <td>Produto C</td>\n",
       "      <td>1</td>\n",
       "      <td>14.92</td>\n",
       "      <td>14.92</td>\n",
       "      <td>1</td>\n",
       "      <td>2020</td>\n",
       "      <td>12.334824</td>\n",
       "      <td>A</td>\n",
       "    </tr>\n",
       "    <tr>\n",
       "      <th>3</th>\n",
       "      <td>2020-01-03 04:39:55.190380761</td>\n",
       "      <td>Maria</td>\n",
       "      <td>Produto B</td>\n",
       "      <td>9</td>\n",
       "      <td>65.09</td>\n",
       "      <td>585.81</td>\n",
       "      <td>1</td>\n",
       "      <td>2020</td>\n",
       "      <td>472.851216</td>\n",
       "      <td>C</td>\n",
       "    </tr>\n",
       "    <tr>\n",
       "      <th>4</th>\n",
       "      <td>2020-01-03 22:13:13.587174348</td>\n",
       "      <td>Ana</td>\n",
       "      <td>Produto B</td>\n",
       "      <td>8</td>\n",
       "      <td>28.02</td>\n",
       "      <td>224.16</td>\n",
       "      <td>1</td>\n",
       "      <td>2020</td>\n",
       "      <td>174.989413</td>\n",
       "      <td>B</td>\n",
       "    </tr>\n",
       "  </tbody>\n",
       "</table>\n",
       "</div>"
      ],
      "text/plain": [
       "                             sale_date customer    product  quantity  \\\n",
       "sale_id                                                                \n",
       "0                  2020-01-01 00:00:00     José  Produto C         4   \n",
       "1        2020-01-01 17:33:18.396793587    Paulo  Produto A         9   \n",
       "2        2020-01-02 11:06:36.793587174     José  Produto C         1   \n",
       "3        2020-01-03 04:39:55.190380761    Maria  Produto B         9   \n",
       "4        2020-01-03 22:13:13.587174348      Ana  Produto B         8   \n",
       "\n",
       "         unit_price  total_sale  month  year        cost product_group  \n",
       "sale_id                                                                 \n",
       "0             32.18      128.72      1  2020  112.392212             C  \n",
       "1             67.42      606.78      1  2020  505.560688             B  \n",
       "2             14.92       14.92      1  2020   12.334824             A  \n",
       "3             65.09      585.81      1  2020  472.851216             C  \n",
       "4             28.02      224.16      1  2020  174.989413             B  "
      ]
     },
     "execution_count": 138,
     "metadata": {},
     "output_type": "execute_result"
    }
   ],
   "source": [
    "sales_df = pd.DataFrame(sales_df, index= sales_df['sale_id'])\n",
    "sales_df.drop(columns= ['sale_id'], inplace= True)\n",
    "sales_df.head()"
   ]
  },
  {
   "cell_type": "code",
   "execution_count": 139,
   "metadata": {},
   "outputs": [
    {
     "data": {
      "text/html": [
       "<div>\n",
       "<style scoped>\n",
       "    .dataframe tbody tr th:only-of-type {\n",
       "        vertical-align: middle;\n",
       "    }\n",
       "\n",
       "    .dataframe tbody tr th {\n",
       "        vertical-align: top;\n",
       "    }\n",
       "\n",
       "    .dataframe thead th {\n",
       "        text-align: right;\n",
       "    }\n",
       "</style>\n",
       "<table border=\"1\" class=\"dataframe\">\n",
       "  <thead>\n",
       "    <tr style=\"text-align: right;\">\n",
       "      <th></th>\n",
       "      <th>sale_date</th>\n",
       "      <th>customer</th>\n",
       "      <th>product</th>\n",
       "      <th>quantity</th>\n",
       "      <th>unit_price</th>\n",
       "      <th>total_sale</th>\n",
       "      <th>month</th>\n",
       "      <th>year</th>\n",
       "      <th>cost</th>\n",
       "      <th>product_group</th>\n",
       "    </tr>\n",
       "    <tr>\n",
       "      <th>sale_id</th>\n",
       "      <th></th>\n",
       "      <th></th>\n",
       "      <th></th>\n",
       "      <th></th>\n",
       "      <th></th>\n",
       "      <th></th>\n",
       "      <th></th>\n",
       "      <th></th>\n",
       "      <th></th>\n",
       "      <th></th>\n",
       "    </tr>\n",
       "  </thead>\n",
       "  <tbody>\n",
       "    <tr>\n",
       "      <th>495</th>\n",
       "      <td>2020-12-28 01:46:46.412825652</td>\n",
       "      <td>Paulo</td>\n",
       "      <td>Produto C</td>\n",
       "      <td>5</td>\n",
       "      <td>76.71</td>\n",
       "      <td>383.55</td>\n",
       "      <td>12</td>\n",
       "      <td>2020</td>\n",
       "      <td>300.355944</td>\n",
       "      <td>A</td>\n",
       "    </tr>\n",
       "    <tr>\n",
       "      <th>496</th>\n",
       "      <td>2020-12-28 19:20:04.809619236</td>\n",
       "      <td>José</td>\n",
       "      <td>Produto A</td>\n",
       "      <td>5</td>\n",
       "      <td>53.42</td>\n",
       "      <td>267.10</td>\n",
       "      <td>12</td>\n",
       "      <td>2020</td>\n",
       "      <td>192.526496</td>\n",
       "      <td>A</td>\n",
       "    </tr>\n",
       "    <tr>\n",
       "      <th>497</th>\n",
       "      <td>2020-12-29 12:53:23.206412824</td>\n",
       "      <td>Maria</td>\n",
       "      <td>Produto C</td>\n",
       "      <td>3</td>\n",
       "      <td>64.18</td>\n",
       "      <td>192.54</td>\n",
       "      <td>12</td>\n",
       "      <td>2020</td>\n",
       "      <td>161.742229</td>\n",
       "      <td>B</td>\n",
       "    </tr>\n",
       "    <tr>\n",
       "      <th>498</th>\n",
       "      <td>2020-12-30 06:26:41.603206412</td>\n",
       "      <td>Maria</td>\n",
       "      <td>Produto B</td>\n",
       "      <td>2</td>\n",
       "      <td>86.15</td>\n",
       "      <td>172.30</td>\n",
       "      <td>12</td>\n",
       "      <td>2020</td>\n",
       "      <td>145.558499</td>\n",
       "      <td>B</td>\n",
       "    </tr>\n",
       "    <tr>\n",
       "      <th>499</th>\n",
       "      <td>2020-12-31 00:00:00</td>\n",
       "      <td>Paulo</td>\n",
       "      <td>Produto B</td>\n",
       "      <td>9</td>\n",
       "      <td>5.96</td>\n",
       "      <td>53.64</td>\n",
       "      <td>12</td>\n",
       "      <td>2020</td>\n",
       "      <td>43.178814</td>\n",
       "      <td>C</td>\n",
       "    </tr>\n",
       "  </tbody>\n",
       "</table>\n",
       "</div>"
      ],
      "text/plain": [
       "                             sale_date customer    product  quantity  \\\n",
       "sale_id                                                                \n",
       "495      2020-12-28 01:46:46.412825652    Paulo  Produto C         5   \n",
       "496      2020-12-28 19:20:04.809619236     José  Produto A         5   \n",
       "497      2020-12-29 12:53:23.206412824    Maria  Produto C         3   \n",
       "498      2020-12-30 06:26:41.603206412    Maria  Produto B         2   \n",
       "499                2020-12-31 00:00:00    Paulo  Produto B         9   \n",
       "\n",
       "         unit_price  total_sale  month  year        cost product_group  \n",
       "sale_id                                                                 \n",
       "495           76.71      383.55     12  2020  300.355944             A  \n",
       "496           53.42      267.10     12  2020  192.526496             A  \n",
       "497           64.18      192.54     12  2020  161.742229             B  \n",
       "498           86.15      172.30     12  2020  145.558499             B  \n",
       "499            5.96       53.64     12  2020   43.178814             C  "
      ]
     },
     "execution_count": 139,
     "metadata": {},
     "output_type": "execute_result"
    }
   ],
   "source": [
    "sales_df.tail()"
   ]
  },
  {
   "cell_type": "markdown",
   "metadata": {},
   "source": [
    "## Análise Descritiva e Exploratória dos dados"
   ]
  },
  {
   "cell_type": "markdown",
   "metadata": {},
   "source": [
    "Importado o dataset, verificou-se o tipo de dado presente em cada coluna e quantidade de dados nulos."
   ]
  },
  {
   "cell_type": "code",
   "execution_count": 140,
   "metadata": {},
   "outputs": [
    {
     "name": "stdout",
     "output_type": "stream",
     "text": [
      "<class 'pandas.core.frame.DataFrame'>\n",
      "Index: 500 entries, 0 to 499\n",
      "Data columns (total 10 columns):\n",
      " #   Column         Non-Null Count  Dtype  \n",
      "---  ------         --------------  -----  \n",
      " 0   sale_date      500 non-null    object \n",
      " 1   customer       476 non-null    object \n",
      " 2   product        500 non-null    object \n",
      " 3   quantity       500 non-null    int64  \n",
      " 4   unit_price     500 non-null    float64\n",
      " 5   total_sale     500 non-null    float64\n",
      " 6   month          500 non-null    int64  \n",
      " 7   year           500 non-null    int64  \n",
      " 8   cost           500 non-null    float64\n",
      " 9   product_group  500 non-null    object \n",
      "dtypes: float64(3), int64(3), object(4)\n",
      "memory usage: 43.0+ KB\n"
     ]
    }
   ],
   "source": [
    "sales_df.info()"
   ]
  },
  {
   "cell_type": "markdown",
   "metadata": {},
   "source": [
    "Tem-se no dataset as seguintes colunas:\n",
    "* sale_date = data de venda\n",
    "* customer = cliente\n",
    "* product = produto\n",
    "* quantity = quantidade do produto vendida\n",
    "* unit_price = preço unitário do produto\n",
    "* total_sale = valor total arrecadado com a respectiva venda\n",
    "* month = mês da venda\n",
    "* year = ano da venda\n",
    "* cost = preço de custo do produto\n",
    "* product_group = categoria do produto"
   ]
  },
  {
   "cell_type": "markdown",
   "metadata": {},
   "source": [
    "Avaliando estes resultados, que as colunas apresentam tipo de dados condizente com a informação que representam, exceto a coluna de datas \"sales_date\" que está como tipo objeto. Logo, converteu-se estes dados para datetime. Para tal, foi observado anteriormente, na visualização do dataset, que as datas apresentam também as horas, onde a primeira e última linha do dataset tem valores das horas diferentes das demais. Portanto, o format com que está escrito estes valores de datas variam ao longo da coluna, sendo necessário então o argumento format = 'mixed' dentro da função de conversão to_datetime( ) da biblioteca Pandas, para que a seja avaliada linha a linha a string presente e a conversão para data seja feita de forma correta."
   ]
  },
  {
   "cell_type": "code",
   "execution_count": 141,
   "metadata": {},
   "outputs": [],
   "source": [
    "sales_df['sale_date'] = pd.to_datetime(sales_df['sale_date'], format='mixed')"
   ]
  },
  {
   "cell_type": "code",
   "execution_count": 142,
   "metadata": {},
   "outputs": [
    {
     "data": {
      "text/plain": [
       "sale_date        datetime64[ns]\n",
       "customer                 object\n",
       "product                  object\n",
       "quantity                  int64\n",
       "unit_price              float64\n",
       "total_sale              float64\n",
       "month                     int64\n",
       "year                      int64\n",
       "cost                    float64\n",
       "product_group            object\n",
       "dtype: object"
      ]
     },
     "execution_count": 142,
     "metadata": {},
     "output_type": "execute_result"
    }
   ],
   "source": [
    "sales_df.dtypes"
   ]
  },
  {
   "cell_type": "code",
   "execution_count": 143,
   "metadata": {},
   "outputs": [
    {
     "data": {
      "text/html": [
       "<div>\n",
       "<style scoped>\n",
       "    .dataframe tbody tr th:only-of-type {\n",
       "        vertical-align: middle;\n",
       "    }\n",
       "\n",
       "    .dataframe tbody tr th {\n",
       "        vertical-align: top;\n",
       "    }\n",
       "\n",
       "    .dataframe thead th {\n",
       "        text-align: right;\n",
       "    }\n",
       "</style>\n",
       "<table border=\"1\" class=\"dataframe\">\n",
       "  <thead>\n",
       "    <tr style=\"text-align: right;\">\n",
       "      <th></th>\n",
       "      <th>sale_date</th>\n",
       "      <th>customer</th>\n",
       "      <th>product</th>\n",
       "      <th>quantity</th>\n",
       "      <th>unit_price</th>\n",
       "      <th>total_sale</th>\n",
       "      <th>month</th>\n",
       "      <th>year</th>\n",
       "      <th>cost</th>\n",
       "      <th>product_group</th>\n",
       "    </tr>\n",
       "    <tr>\n",
       "      <th>sale_id</th>\n",
       "      <th></th>\n",
       "      <th></th>\n",
       "      <th></th>\n",
       "      <th></th>\n",
       "      <th></th>\n",
       "      <th></th>\n",
       "      <th></th>\n",
       "      <th></th>\n",
       "      <th></th>\n",
       "      <th></th>\n",
       "    </tr>\n",
       "  </thead>\n",
       "  <tbody>\n",
       "    <tr>\n",
       "      <th>0</th>\n",
       "      <td>2020-01-01 00:00:00.000000000</td>\n",
       "      <td>José</td>\n",
       "      <td>Produto C</td>\n",
       "      <td>4</td>\n",
       "      <td>32.18</td>\n",
       "      <td>128.72</td>\n",
       "      <td>1</td>\n",
       "      <td>2020</td>\n",
       "      <td>112.392212</td>\n",
       "      <td>C</td>\n",
       "    </tr>\n",
       "    <tr>\n",
       "      <th>1</th>\n",
       "      <td>2020-01-01 17:33:18.396793587</td>\n",
       "      <td>Paulo</td>\n",
       "      <td>Produto A</td>\n",
       "      <td>9</td>\n",
       "      <td>67.42</td>\n",
       "      <td>606.78</td>\n",
       "      <td>1</td>\n",
       "      <td>2020</td>\n",
       "      <td>505.560688</td>\n",
       "      <td>B</td>\n",
       "    </tr>\n",
       "    <tr>\n",
       "      <th>2</th>\n",
       "      <td>2020-01-02 11:06:36.793587174</td>\n",
       "      <td>José</td>\n",
       "      <td>Produto C</td>\n",
       "      <td>1</td>\n",
       "      <td>14.92</td>\n",
       "      <td>14.92</td>\n",
       "      <td>1</td>\n",
       "      <td>2020</td>\n",
       "      <td>12.334824</td>\n",
       "      <td>A</td>\n",
       "    </tr>\n",
       "    <tr>\n",
       "      <th>3</th>\n",
       "      <td>2020-01-03 04:39:55.190380761</td>\n",
       "      <td>Maria</td>\n",
       "      <td>Produto B</td>\n",
       "      <td>9</td>\n",
       "      <td>65.09</td>\n",
       "      <td>585.81</td>\n",
       "      <td>1</td>\n",
       "      <td>2020</td>\n",
       "      <td>472.851216</td>\n",
       "      <td>C</td>\n",
       "    </tr>\n",
       "    <tr>\n",
       "      <th>4</th>\n",
       "      <td>2020-01-03 22:13:13.587174348</td>\n",
       "      <td>Ana</td>\n",
       "      <td>Produto B</td>\n",
       "      <td>8</td>\n",
       "      <td>28.02</td>\n",
       "      <td>224.16</td>\n",
       "      <td>1</td>\n",
       "      <td>2020</td>\n",
       "      <td>174.989413</td>\n",
       "      <td>B</td>\n",
       "    </tr>\n",
       "  </tbody>\n",
       "</table>\n",
       "</div>"
      ],
      "text/plain": [
       "                            sale_date customer    product  quantity  \\\n",
       "sale_id                                                               \n",
       "0       2020-01-01 00:00:00.000000000     José  Produto C         4   \n",
       "1       2020-01-01 17:33:18.396793587    Paulo  Produto A         9   \n",
       "2       2020-01-02 11:06:36.793587174     José  Produto C         1   \n",
       "3       2020-01-03 04:39:55.190380761    Maria  Produto B         9   \n",
       "4       2020-01-03 22:13:13.587174348      Ana  Produto B         8   \n",
       "\n",
       "         unit_price  total_sale  month  year        cost product_group  \n",
       "sale_id                                                                 \n",
       "0             32.18      128.72      1  2020  112.392212             C  \n",
       "1             67.42      606.78      1  2020  505.560688             B  \n",
       "2             14.92       14.92      1  2020   12.334824             A  \n",
       "3             65.09      585.81      1  2020  472.851216             C  \n",
       "4             28.02      224.16      1  2020  174.989413             B  "
      ]
     },
     "execution_count": 143,
     "metadata": {},
     "output_type": "execute_result"
    }
   ],
   "source": [
    "sales_df.head()"
   ]
  },
  {
   "cell_type": "markdown",
   "metadata": {},
   "source": [
    "Feita esta conversão, as colunas de mês e ano da venda não são mais necessárias, portanto elas foram excluídas do dataset."
   ]
  },
  {
   "cell_type": "code",
   "execution_count": 144,
   "metadata": {},
   "outputs": [],
   "source": [
    "sales_df.drop(columns = ['month', 'year'], inplace = True)"
   ]
  },
  {
   "cell_type": "code",
   "execution_count": 145,
   "metadata": {},
   "outputs": [
    {
     "data": {
      "text/html": [
       "<div>\n",
       "<style scoped>\n",
       "    .dataframe tbody tr th:only-of-type {\n",
       "        vertical-align: middle;\n",
       "    }\n",
       "\n",
       "    .dataframe tbody tr th {\n",
       "        vertical-align: top;\n",
       "    }\n",
       "\n",
       "    .dataframe thead th {\n",
       "        text-align: right;\n",
       "    }\n",
       "</style>\n",
       "<table border=\"1\" class=\"dataframe\">\n",
       "  <thead>\n",
       "    <tr style=\"text-align: right;\">\n",
       "      <th></th>\n",
       "      <th>sale_date</th>\n",
       "      <th>customer</th>\n",
       "      <th>product</th>\n",
       "      <th>quantity</th>\n",
       "      <th>unit_price</th>\n",
       "      <th>total_sale</th>\n",
       "      <th>cost</th>\n",
       "      <th>product_group</th>\n",
       "    </tr>\n",
       "    <tr>\n",
       "      <th>sale_id</th>\n",
       "      <th></th>\n",
       "      <th></th>\n",
       "      <th></th>\n",
       "      <th></th>\n",
       "      <th></th>\n",
       "      <th></th>\n",
       "      <th></th>\n",
       "      <th></th>\n",
       "    </tr>\n",
       "  </thead>\n",
       "  <tbody>\n",
       "    <tr>\n",
       "      <th>0</th>\n",
       "      <td>2020-01-01 00:00:00.000000000</td>\n",
       "      <td>José</td>\n",
       "      <td>Produto C</td>\n",
       "      <td>4</td>\n",
       "      <td>32.18</td>\n",
       "      <td>128.72</td>\n",
       "      <td>112.392212</td>\n",
       "      <td>C</td>\n",
       "    </tr>\n",
       "    <tr>\n",
       "      <th>1</th>\n",
       "      <td>2020-01-01 17:33:18.396793587</td>\n",
       "      <td>Paulo</td>\n",
       "      <td>Produto A</td>\n",
       "      <td>9</td>\n",
       "      <td>67.42</td>\n",
       "      <td>606.78</td>\n",
       "      <td>505.560688</td>\n",
       "      <td>B</td>\n",
       "    </tr>\n",
       "    <tr>\n",
       "      <th>2</th>\n",
       "      <td>2020-01-02 11:06:36.793587174</td>\n",
       "      <td>José</td>\n",
       "      <td>Produto C</td>\n",
       "      <td>1</td>\n",
       "      <td>14.92</td>\n",
       "      <td>14.92</td>\n",
       "      <td>12.334824</td>\n",
       "      <td>A</td>\n",
       "    </tr>\n",
       "    <tr>\n",
       "      <th>3</th>\n",
       "      <td>2020-01-03 04:39:55.190380761</td>\n",
       "      <td>Maria</td>\n",
       "      <td>Produto B</td>\n",
       "      <td>9</td>\n",
       "      <td>65.09</td>\n",
       "      <td>585.81</td>\n",
       "      <td>472.851216</td>\n",
       "      <td>C</td>\n",
       "    </tr>\n",
       "    <tr>\n",
       "      <th>4</th>\n",
       "      <td>2020-01-03 22:13:13.587174348</td>\n",
       "      <td>Ana</td>\n",
       "      <td>Produto B</td>\n",
       "      <td>8</td>\n",
       "      <td>28.02</td>\n",
       "      <td>224.16</td>\n",
       "      <td>174.989413</td>\n",
       "      <td>B</td>\n",
       "    </tr>\n",
       "  </tbody>\n",
       "</table>\n",
       "</div>"
      ],
      "text/plain": [
       "                            sale_date customer    product  quantity  \\\n",
       "sale_id                                                               \n",
       "0       2020-01-01 00:00:00.000000000     José  Produto C         4   \n",
       "1       2020-01-01 17:33:18.396793587    Paulo  Produto A         9   \n",
       "2       2020-01-02 11:06:36.793587174     José  Produto C         1   \n",
       "3       2020-01-03 04:39:55.190380761    Maria  Produto B         9   \n",
       "4       2020-01-03 22:13:13.587174348      Ana  Produto B         8   \n",
       "\n",
       "         unit_price  total_sale        cost product_group  \n",
       "sale_id                                                    \n",
       "0             32.18      128.72  112.392212             C  \n",
       "1             67.42      606.78  505.560688             B  \n",
       "2             14.92       14.92   12.334824             A  \n",
       "3             65.09      585.81  472.851216             C  \n",
       "4             28.02      224.16  174.989413             B  "
      ]
     },
     "execution_count": 145,
     "metadata": {},
     "output_type": "execute_result"
    }
   ],
   "source": [
    "sales_df.head()"
   ]
  },
  {
   "cell_type": "markdown",
   "metadata": {},
   "source": [
    "### Dados nulos"
   ]
  },
  {
   "cell_type": "markdown",
   "metadata": {},
   "source": [
    "Feita a conversão necessário, avaliou-se então os dados nulos. Pelos resultados retornados da função info( ) acima, a coluna \"customer\" apresenta 476 entradas não nulas, sendo que o dataset completo tem 500 entradas. Assim, esta coluna tem 500-476 = 24 dados nulos. A linha de código abaixo confirma esta informação,"
   ]
  },
  {
   "cell_type": "code",
   "execution_count": 146,
   "metadata": {},
   "outputs": [
    {
     "data": {
      "text/plain": [
       "sale_date         0\n",
       "customer         24\n",
       "product           0\n",
       "quantity          0\n",
       "unit_price        0\n",
       "total_sale        0\n",
       "cost              0\n",
       "product_group     0\n",
       "dtype: int64"
      ]
     },
     "execution_count": 146,
     "metadata": {},
     "output_type": "execute_result"
    }
   ],
   "source": [
    "sales_df.isnull().sum()"
   ]
  },
  {
   "cell_type": "markdown",
   "metadata": {},
   "source": [
    "Definindo uma função para calcular a percentagem de dados ausentes por coluna,"
   ]
  },
  {
   "cell_type": "code",
   "execution_count": 147,
   "metadata": {},
   "outputs": [],
   "source": [
    "def show_missing(df):\n",
    "    if isinstance(df, pd.core.frame.DataFrame):\n",
    "        return (df.isnull().sum()/df.shape[0])*100   "
   ]
  },
  {
   "cell_type": "markdown",
   "metadata": {},
   "source": [
    "Passando o dataset em questão como argumento,"
   ]
  },
  {
   "cell_type": "code",
   "execution_count": 148,
   "metadata": {},
   "outputs": [
    {
     "data": {
      "text/plain": [
       "sale_date        0.0\n",
       "customer         4.8\n",
       "product          0.0\n",
       "quantity         0.0\n",
       "unit_price       0.0\n",
       "total_sale       0.0\n",
       "cost             0.0\n",
       "product_group    0.0\n",
       "dtype: float64"
      ]
     },
     "execution_count": 148,
     "metadata": {},
     "output_type": "execute_result"
    }
   ],
   "source": [
    "show_missing(sales_df)"
   ]
  },
  {
   "cell_type": "markdown",
   "metadata": {},
   "source": [
    "Tem-se então 4,8% dos dados da coluna 'customer' como nulos. Visualizando as linhas dos dados nulos no dataset"
   ]
  },
  {
   "cell_type": "code",
   "execution_count": 149,
   "metadata": {},
   "outputs": [
    {
     "data": {
      "text/html": [
       "<div>\n",
       "<style scoped>\n",
       "    .dataframe tbody tr th:only-of-type {\n",
       "        vertical-align: middle;\n",
       "    }\n",
       "\n",
       "    .dataframe tbody tr th {\n",
       "        vertical-align: top;\n",
       "    }\n",
       "\n",
       "    .dataframe thead th {\n",
       "        text-align: right;\n",
       "    }\n",
       "</style>\n",
       "<table border=\"1\" class=\"dataframe\">\n",
       "  <thead>\n",
       "    <tr style=\"text-align: right;\">\n",
       "      <th></th>\n",
       "      <th>sale_date</th>\n",
       "      <th>customer</th>\n",
       "      <th>product</th>\n",
       "      <th>quantity</th>\n",
       "      <th>unit_price</th>\n",
       "      <th>total_sale</th>\n",
       "      <th>cost</th>\n",
       "      <th>product_group</th>\n",
       "    </tr>\n",
       "    <tr>\n",
       "      <th>sale_id</th>\n",
       "      <th></th>\n",
       "      <th></th>\n",
       "      <th></th>\n",
       "      <th></th>\n",
       "      <th></th>\n",
       "      <th></th>\n",
       "      <th></th>\n",
       "      <th></th>\n",
       "    </tr>\n",
       "  </thead>\n",
       "  <tbody>\n",
       "    <tr>\n",
       "      <th>24</th>\n",
       "      <td>2020-01-18 13:19:21.523046092</td>\n",
       "      <td>NaN</td>\n",
       "      <td>Produto C</td>\n",
       "      <td>2</td>\n",
       "      <td>94.48</td>\n",
       "      <td>188.96</td>\n",
       "      <td>146.753708</td>\n",
       "      <td>C</td>\n",
       "    </tr>\n",
       "    <tr>\n",
       "      <th>25</th>\n",
       "      <td>2020-01-19 06:52:39.919839679</td>\n",
       "      <td>NaN</td>\n",
       "      <td>Produto B</td>\n",
       "      <td>5</td>\n",
       "      <td>67.88</td>\n",
       "      <td>339.40</td>\n",
       "      <td>264.327474</td>\n",
       "      <td>B</td>\n",
       "    </tr>\n",
       "    <tr>\n",
       "      <th>36</th>\n",
       "      <td>2020-01-27 07:59:02.284569138</td>\n",
       "      <td>NaN</td>\n",
       "      <td>Produto A</td>\n",
       "      <td>9</td>\n",
       "      <td>68.96</td>\n",
       "      <td>620.64</td>\n",
       "      <td>464.536704</td>\n",
       "      <td>B</td>\n",
       "    </tr>\n",
       "    <tr>\n",
       "      <th>65</th>\n",
       "      <td>2020-02-17 13:04:55.791583166</td>\n",
       "      <td>NaN</td>\n",
       "      <td>Produto B</td>\n",
       "      <td>1</td>\n",
       "      <td>10.35</td>\n",
       "      <td>10.35</td>\n",
       "      <td>7.677423</td>\n",
       "      <td>A</td>\n",
       "    </tr>\n",
       "    <tr>\n",
       "      <th>73</th>\n",
       "      <td>2020-02-23 09:31:22.965931864</td>\n",
       "      <td>NaN</td>\n",
       "      <td>Produto A</td>\n",
       "      <td>1</td>\n",
       "      <td>78.60</td>\n",
       "      <td>78.60</td>\n",
       "      <td>64.096957</td>\n",
       "      <td>B</td>\n",
       "    </tr>\n",
       "    <tr>\n",
       "      <th>76</th>\n",
       "      <td>2020-02-25 14:11:18.156312625</td>\n",
       "      <td>NaN</td>\n",
       "      <td>Produto D</td>\n",
       "      <td>9</td>\n",
       "      <td>68.67</td>\n",
       "      <td>618.03</td>\n",
       "      <td>445.684551</td>\n",
       "      <td>C</td>\n",
       "    </tr>\n",
       "    <tr>\n",
       "      <th>86</th>\n",
       "      <td>2020-03-03 21:44:22.124248497</td>\n",
       "      <td>NaN</td>\n",
       "      <td>Produto B</td>\n",
       "      <td>9</td>\n",
       "      <td>44.41</td>\n",
       "      <td>399.69</td>\n",
       "      <td>309.677417</td>\n",
       "      <td>A</td>\n",
       "    </tr>\n",
       "    <tr>\n",
       "      <th>124</th>\n",
       "      <td>2020-03-31 16:50:01.202404809</td>\n",
       "      <td>NaN</td>\n",
       "      <td>Produto C</td>\n",
       "      <td>2</td>\n",
       "      <td>41.98</td>\n",
       "      <td>83.96</td>\n",
       "      <td>64.255502</td>\n",
       "      <td>C</td>\n",
       "    </tr>\n",
       "    <tr>\n",
       "      <th>177</th>\n",
       "      <td>2020-05-09 11:15:16.232464930</td>\n",
       "      <td>NaN</td>\n",
       "      <td>Produto D</td>\n",
       "      <td>9</td>\n",
       "      <td>32.09</td>\n",
       "      <td>288.81</td>\n",
       "      <td>268.322978</td>\n",
       "      <td>C</td>\n",
       "    </tr>\n",
       "    <tr>\n",
       "      <th>273</th>\n",
       "      <td>2020-07-18 16:32:42.324649298</td>\n",
       "      <td>NaN</td>\n",
       "      <td>Produto B</td>\n",
       "      <td>3</td>\n",
       "      <td>76.24</td>\n",
       "      <td>228.72</td>\n",
       "      <td>183.722036</td>\n",
       "      <td>A</td>\n",
       "    </tr>\n",
       "    <tr>\n",
       "      <th>287</th>\n",
       "      <td>2020-07-28 22:18:59.879759520</td>\n",
       "      <td>NaN</td>\n",
       "      <td>Produto A</td>\n",
       "      <td>8</td>\n",
       "      <td>81.16</td>\n",
       "      <td>649.28</td>\n",
       "      <td>498.142746</td>\n",
       "      <td>B</td>\n",
       "    </tr>\n",
       "    <tr>\n",
       "      <th>301</th>\n",
       "      <td>2020-08-08 04:05:17.434869740</td>\n",
       "      <td>NaN</td>\n",
       "      <td>Produto B</td>\n",
       "      <td>6</td>\n",
       "      <td>61.50</td>\n",
       "      <td>369.00</td>\n",
       "      <td>275.262689</td>\n",
       "      <td>C</td>\n",
       "    </tr>\n",
       "    <tr>\n",
       "      <th>308</th>\n",
       "      <td>2020-08-13 06:58:26.212424848</td>\n",
       "      <td>NaN</td>\n",
       "      <td>Produto A</td>\n",
       "      <td>2</td>\n",
       "      <td>4.83</td>\n",
       "      <td>9.66</td>\n",
       "      <td>7.433168</td>\n",
       "      <td>B</td>\n",
       "    </tr>\n",
       "    <tr>\n",
       "      <th>318</th>\n",
       "      <td>2020-08-20 14:31:30.180360720</td>\n",
       "      <td>NaN</td>\n",
       "      <td>Produto C</td>\n",
       "      <td>9</td>\n",
       "      <td>43.56</td>\n",
       "      <td>392.04</td>\n",
       "      <td>305.057488</td>\n",
       "      <td>C</td>\n",
       "    </tr>\n",
       "    <tr>\n",
       "      <th>326</th>\n",
       "      <td>2020-08-26 10:57:57.354709420</td>\n",
       "      <td>NaN</td>\n",
       "      <td>Produto D</td>\n",
       "      <td>1</td>\n",
       "      <td>24.14</td>\n",
       "      <td>24.14</td>\n",
       "      <td>20.112230</td>\n",
       "      <td>C</td>\n",
       "    </tr>\n",
       "    <tr>\n",
       "      <th>329</th>\n",
       "      <td>2020-08-28 15:37:52.545090180</td>\n",
       "      <td>NaN</td>\n",
       "      <td>Produto D</td>\n",
       "      <td>2</td>\n",
       "      <td>51.45</td>\n",
       "      <td>102.90</td>\n",
       "      <td>79.010605</td>\n",
       "      <td>A</td>\n",
       "    </tr>\n",
       "    <tr>\n",
       "      <th>358</th>\n",
       "      <td>2020-09-18 20:43:46.052104208</td>\n",
       "      <td>NaN</td>\n",
       "      <td>Produto C</td>\n",
       "      <td>1</td>\n",
       "      <td>70.65</td>\n",
       "      <td>70.65</td>\n",
       "      <td>55.494786</td>\n",
       "      <td>C</td>\n",
       "    </tr>\n",
       "    <tr>\n",
       "      <th>366</th>\n",
       "      <td>2020-09-24 17:10:13.226452904</td>\n",
       "      <td>NaN</td>\n",
       "      <td>Produto A</td>\n",
       "      <td>9</td>\n",
       "      <td>23.59</td>\n",
       "      <td>212.31</td>\n",
       "      <td>183.282779</td>\n",
       "      <td>B</td>\n",
       "    </tr>\n",
       "    <tr>\n",
       "      <th>374</th>\n",
       "      <td>2020-09-30 13:36:40.400801604</td>\n",
       "      <td>NaN</td>\n",
       "      <td>Produto A</td>\n",
       "      <td>7</td>\n",
       "      <td>84.54</td>\n",
       "      <td>591.78</td>\n",
       "      <td>453.343411</td>\n",
       "      <td>C</td>\n",
       "    </tr>\n",
       "    <tr>\n",
       "      <th>402</th>\n",
       "      <td>2020-10-21 01:09:15.511022044</td>\n",
       "      <td>NaN</td>\n",
       "      <td>Produto D</td>\n",
       "      <td>8</td>\n",
       "      <td>13.99</td>\n",
       "      <td>111.92</td>\n",
       "      <td>87.107482</td>\n",
       "      <td>C</td>\n",
       "    </tr>\n",
       "    <tr>\n",
       "      <th>447</th>\n",
       "      <td>2020-11-22 23:08:03.366733464</td>\n",
       "      <td>NaN</td>\n",
       "      <td>Produto C</td>\n",
       "      <td>5</td>\n",
       "      <td>61.94</td>\n",
       "      <td>309.70</td>\n",
       "      <td>239.974965</td>\n",
       "      <td>C</td>\n",
       "    </tr>\n",
       "    <tr>\n",
       "      <th>453</th>\n",
       "      <td>2020-11-27 08:27:53.747494988</td>\n",
       "      <td>NaN</td>\n",
       "      <td>Produto A</td>\n",
       "      <td>5</td>\n",
       "      <td>93.72</td>\n",
       "      <td>468.60</td>\n",
       "      <td>368.138710</td>\n",
       "      <td>B</td>\n",
       "    </tr>\n",
       "    <tr>\n",
       "      <th>469</th>\n",
       "      <td>2020-12-09 01:20:48.096192384</td>\n",
       "      <td>NaN</td>\n",
       "      <td>Produto A</td>\n",
       "      <td>7</td>\n",
       "      <td>31.70</td>\n",
       "      <td>221.90</td>\n",
       "      <td>179.696838</td>\n",
       "      <td>B</td>\n",
       "    </tr>\n",
       "    <tr>\n",
       "      <th>474</th>\n",
       "      <td>2020-12-12 17:07:20.080160320</td>\n",
       "      <td>NaN</td>\n",
       "      <td>Produto A</td>\n",
       "      <td>9</td>\n",
       "      <td>71.53</td>\n",
       "      <td>643.77</td>\n",
       "      <td>466.854894</td>\n",
       "      <td>B</td>\n",
       "    </tr>\n",
       "  </tbody>\n",
       "</table>\n",
       "</div>"
      ],
      "text/plain": [
       "                            sale_date customer    product  quantity  \\\n",
       "sale_id                                                               \n",
       "24      2020-01-18 13:19:21.523046092      NaN  Produto C         2   \n",
       "25      2020-01-19 06:52:39.919839679      NaN  Produto B         5   \n",
       "36      2020-01-27 07:59:02.284569138      NaN  Produto A         9   \n",
       "65      2020-02-17 13:04:55.791583166      NaN  Produto B         1   \n",
       "73      2020-02-23 09:31:22.965931864      NaN  Produto A         1   \n",
       "76      2020-02-25 14:11:18.156312625      NaN  Produto D         9   \n",
       "86      2020-03-03 21:44:22.124248497      NaN  Produto B         9   \n",
       "124     2020-03-31 16:50:01.202404809      NaN  Produto C         2   \n",
       "177     2020-05-09 11:15:16.232464930      NaN  Produto D         9   \n",
       "273     2020-07-18 16:32:42.324649298      NaN  Produto B         3   \n",
       "287     2020-07-28 22:18:59.879759520      NaN  Produto A         8   \n",
       "301     2020-08-08 04:05:17.434869740      NaN  Produto B         6   \n",
       "308     2020-08-13 06:58:26.212424848      NaN  Produto A         2   \n",
       "318     2020-08-20 14:31:30.180360720      NaN  Produto C         9   \n",
       "326     2020-08-26 10:57:57.354709420      NaN  Produto D         1   \n",
       "329     2020-08-28 15:37:52.545090180      NaN  Produto D         2   \n",
       "358     2020-09-18 20:43:46.052104208      NaN  Produto C         1   \n",
       "366     2020-09-24 17:10:13.226452904      NaN  Produto A         9   \n",
       "374     2020-09-30 13:36:40.400801604      NaN  Produto A         7   \n",
       "402     2020-10-21 01:09:15.511022044      NaN  Produto D         8   \n",
       "447     2020-11-22 23:08:03.366733464      NaN  Produto C         5   \n",
       "453     2020-11-27 08:27:53.747494988      NaN  Produto A         5   \n",
       "469     2020-12-09 01:20:48.096192384      NaN  Produto A         7   \n",
       "474     2020-12-12 17:07:20.080160320      NaN  Produto A         9   \n",
       "\n",
       "         unit_price  total_sale        cost product_group  \n",
       "sale_id                                                    \n",
       "24            94.48      188.96  146.753708             C  \n",
       "25            67.88      339.40  264.327474             B  \n",
       "36            68.96      620.64  464.536704             B  \n",
       "65            10.35       10.35    7.677423             A  \n",
       "73            78.60       78.60   64.096957             B  \n",
       "76            68.67      618.03  445.684551             C  \n",
       "86            44.41      399.69  309.677417             A  \n",
       "124           41.98       83.96   64.255502             C  \n",
       "177           32.09      288.81  268.322978             C  \n",
       "273           76.24      228.72  183.722036             A  \n",
       "287           81.16      649.28  498.142746             B  \n",
       "301           61.50      369.00  275.262689             C  \n",
       "308            4.83        9.66    7.433168             B  \n",
       "318           43.56      392.04  305.057488             C  \n",
       "326           24.14       24.14   20.112230             C  \n",
       "329           51.45      102.90   79.010605             A  \n",
       "358           70.65       70.65   55.494786             C  \n",
       "366           23.59      212.31  183.282779             B  \n",
       "374           84.54      591.78  453.343411             C  \n",
       "402           13.99      111.92   87.107482             C  \n",
       "447           61.94      309.70  239.974965             C  \n",
       "453           93.72      468.60  368.138710             B  \n",
       "469           31.70      221.90  179.696838             B  \n",
       "474           71.53      643.77  466.854894             B  "
      ]
     },
     "execution_count": 149,
     "metadata": {},
     "output_type": "execute_result"
    }
   ],
   "source": [
    "nulos = sales_df['customer'].isnull()\n",
    "sales_df[nulos]"
   ]
  },
  {
   "cell_type": "markdown",
   "metadata": {},
   "source": [
    "Observando as linhas em que o dado de \"customer\" é nulo, percebe-se não existir um padrão nos dados. Tem-se produtos de todas as categorias, com diversas quantidades e em dias de compras aleatórios. Contudo, todas as compras foram feitas de 2020. Verificando abaixo somente as compras de 2020,"
   ]
  },
  {
   "cell_type": "code",
   "execution_count": 150,
   "metadata": {},
   "outputs": [
    {
     "data": {
      "text/html": [
       "<div>\n",
       "<style scoped>\n",
       "    .dataframe tbody tr th:only-of-type {\n",
       "        vertical-align: middle;\n",
       "    }\n",
       "\n",
       "    .dataframe tbody tr th {\n",
       "        vertical-align: top;\n",
       "    }\n",
       "\n",
       "    .dataframe thead th {\n",
       "        text-align: right;\n",
       "    }\n",
       "</style>\n",
       "<table border=\"1\" class=\"dataframe\">\n",
       "  <thead>\n",
       "    <tr style=\"text-align: right;\">\n",
       "      <th></th>\n",
       "      <th>sale_date</th>\n",
       "      <th>customer</th>\n",
       "      <th>product</th>\n",
       "      <th>quantity</th>\n",
       "      <th>unit_price</th>\n",
       "      <th>total_sale</th>\n",
       "      <th>cost</th>\n",
       "      <th>product_group</th>\n",
       "    </tr>\n",
       "    <tr>\n",
       "      <th>sale_id</th>\n",
       "      <th></th>\n",
       "      <th></th>\n",
       "      <th></th>\n",
       "      <th></th>\n",
       "      <th></th>\n",
       "      <th></th>\n",
       "      <th></th>\n",
       "      <th></th>\n",
       "    </tr>\n",
       "  </thead>\n",
       "  <tbody>\n",
       "    <tr>\n",
       "      <th>0</th>\n",
       "      <td>2020-01-01 00:00:00.000000000</td>\n",
       "      <td>José</td>\n",
       "      <td>Produto C</td>\n",
       "      <td>4</td>\n",
       "      <td>32.18</td>\n",
       "      <td>128.72</td>\n",
       "      <td>112.392212</td>\n",
       "      <td>C</td>\n",
       "    </tr>\n",
       "    <tr>\n",
       "      <th>1</th>\n",
       "      <td>2020-01-01 17:33:18.396793587</td>\n",
       "      <td>Paulo</td>\n",
       "      <td>Produto A</td>\n",
       "      <td>9</td>\n",
       "      <td>67.42</td>\n",
       "      <td>606.78</td>\n",
       "      <td>505.560688</td>\n",
       "      <td>B</td>\n",
       "    </tr>\n",
       "    <tr>\n",
       "      <th>2</th>\n",
       "      <td>2020-01-02 11:06:36.793587174</td>\n",
       "      <td>José</td>\n",
       "      <td>Produto C</td>\n",
       "      <td>1</td>\n",
       "      <td>14.92</td>\n",
       "      <td>14.92</td>\n",
       "      <td>12.334824</td>\n",
       "      <td>A</td>\n",
       "    </tr>\n",
       "    <tr>\n",
       "      <th>3</th>\n",
       "      <td>2020-01-03 04:39:55.190380761</td>\n",
       "      <td>Maria</td>\n",
       "      <td>Produto B</td>\n",
       "      <td>9</td>\n",
       "      <td>65.09</td>\n",
       "      <td>585.81</td>\n",
       "      <td>472.851216</td>\n",
       "      <td>C</td>\n",
       "    </tr>\n",
       "    <tr>\n",
       "      <th>4</th>\n",
       "      <td>2020-01-03 22:13:13.587174348</td>\n",
       "      <td>Ana</td>\n",
       "      <td>Produto B</td>\n",
       "      <td>8</td>\n",
       "      <td>28.02</td>\n",
       "      <td>224.16</td>\n",
       "      <td>174.989413</td>\n",
       "      <td>B</td>\n",
       "    </tr>\n",
       "    <tr>\n",
       "      <th>...</th>\n",
       "      <td>...</td>\n",
       "      <td>...</td>\n",
       "      <td>...</td>\n",
       "      <td>...</td>\n",
       "      <td>...</td>\n",
       "      <td>...</td>\n",
       "      <td>...</td>\n",
       "      <td>...</td>\n",
       "    </tr>\n",
       "    <tr>\n",
       "      <th>495</th>\n",
       "      <td>2020-12-28 01:46:46.412825652</td>\n",
       "      <td>Paulo</td>\n",
       "      <td>Produto C</td>\n",
       "      <td>5</td>\n",
       "      <td>76.71</td>\n",
       "      <td>383.55</td>\n",
       "      <td>300.355944</td>\n",
       "      <td>A</td>\n",
       "    </tr>\n",
       "    <tr>\n",
       "      <th>496</th>\n",
       "      <td>2020-12-28 19:20:04.809619236</td>\n",
       "      <td>José</td>\n",
       "      <td>Produto A</td>\n",
       "      <td>5</td>\n",
       "      <td>53.42</td>\n",
       "      <td>267.10</td>\n",
       "      <td>192.526496</td>\n",
       "      <td>A</td>\n",
       "    </tr>\n",
       "    <tr>\n",
       "      <th>497</th>\n",
       "      <td>2020-12-29 12:53:23.206412824</td>\n",
       "      <td>Maria</td>\n",
       "      <td>Produto C</td>\n",
       "      <td>3</td>\n",
       "      <td>64.18</td>\n",
       "      <td>192.54</td>\n",
       "      <td>161.742229</td>\n",
       "      <td>B</td>\n",
       "    </tr>\n",
       "    <tr>\n",
       "      <th>498</th>\n",
       "      <td>2020-12-30 06:26:41.603206412</td>\n",
       "      <td>Maria</td>\n",
       "      <td>Produto B</td>\n",
       "      <td>2</td>\n",
       "      <td>86.15</td>\n",
       "      <td>172.30</td>\n",
       "      <td>145.558499</td>\n",
       "      <td>B</td>\n",
       "    </tr>\n",
       "    <tr>\n",
       "      <th>499</th>\n",
       "      <td>2020-12-31 00:00:00.000000000</td>\n",
       "      <td>Paulo</td>\n",
       "      <td>Produto B</td>\n",
       "      <td>9</td>\n",
       "      <td>5.96</td>\n",
       "      <td>53.64</td>\n",
       "      <td>43.178814</td>\n",
       "      <td>C</td>\n",
       "    </tr>\n",
       "  </tbody>\n",
       "</table>\n",
       "<p>500 rows × 8 columns</p>\n",
       "</div>"
      ],
      "text/plain": [
       "                            sale_date customer    product  quantity  \\\n",
       "sale_id                                                               \n",
       "0       2020-01-01 00:00:00.000000000     José  Produto C         4   \n",
       "1       2020-01-01 17:33:18.396793587    Paulo  Produto A         9   \n",
       "2       2020-01-02 11:06:36.793587174     José  Produto C         1   \n",
       "3       2020-01-03 04:39:55.190380761    Maria  Produto B         9   \n",
       "4       2020-01-03 22:13:13.587174348      Ana  Produto B         8   \n",
       "...                               ...      ...        ...       ...   \n",
       "495     2020-12-28 01:46:46.412825652    Paulo  Produto C         5   \n",
       "496     2020-12-28 19:20:04.809619236     José  Produto A         5   \n",
       "497     2020-12-29 12:53:23.206412824    Maria  Produto C         3   \n",
       "498     2020-12-30 06:26:41.603206412    Maria  Produto B         2   \n",
       "499     2020-12-31 00:00:00.000000000    Paulo  Produto B         9   \n",
       "\n",
       "         unit_price  total_sale        cost product_group  \n",
       "sale_id                                                    \n",
       "0             32.18      128.72  112.392212             C  \n",
       "1             67.42      606.78  505.560688             B  \n",
       "2             14.92       14.92   12.334824             A  \n",
       "3             65.09      585.81  472.851216             C  \n",
       "4             28.02      224.16  174.989413             B  \n",
       "...             ...         ...         ...           ...  \n",
       "495           76.71      383.55  300.355944             A  \n",
       "496           53.42      267.10  192.526496             A  \n",
       "497           64.18      192.54  161.742229             B  \n",
       "498           86.15      172.30  145.558499             B  \n",
       "499            5.96       53.64   43.178814             C  \n",
       "\n",
       "[500 rows x 8 columns]"
      ]
     },
     "execution_count": 150,
     "metadata": {},
     "output_type": "execute_result"
    }
   ],
   "source": [
    "sales_df[sales_df['sale_date'].dt.year == 2020]"
   ]
  },
  {
   "cell_type": "markdown",
   "metadata": {},
   "source": [
    "Pela quantidade de linhas retornadas (500) tem-se então que todas as compras presentes no dataset foram feitas no ano de 2020. Para confirmar isto, basta acessarmos os anos que aparecem na coluna \"sale_date\"."
   ]
  },
  {
   "cell_type": "code",
   "execution_count": 151,
   "metadata": {},
   "outputs": [
    {
     "data": {
      "text/plain": [
       "array([2020])"
      ]
     },
     "execution_count": 151,
     "metadata": {},
     "output_type": "execute_result"
    }
   ],
   "source": [
    "sales_df['sale_date'].dt.year.unique()"
   ]
  },
  {
   "cell_type": "markdown",
   "metadata": {},
   "source": [
    "Logo, como dito só tem 2020, portanto os nulos não estão relacionadas também ao ano das compras.\n",
    "\n",
    "Verificou-se agora a posição destes dados nulos na distribuição da coluna. Para tal, utiliza-se da biblioteca missgno. O dataset foi ordenado por data para a plotagem."
   ]
  },
  {
   "cell_type": "code",
   "execution_count": 152,
   "metadata": {},
   "outputs": [
    {
     "data": {
      "image/png": "[encoded data removed]",
      "text/plain": [
       "<Figure size 2500x1000 with 2 Axes>"
      ]
     },
     "metadata": {},
     "output_type": "display_data"
    }
   ],
   "source": [
    "import missingno as msno\n",
    "\n",
    "msno.matrix(sales_df.sort_values(by = 'sale_date'));"
   ]
  },
  {
   "cell_type": "markdown",
   "metadata": {},
   "source": [
    "Como é possível observar no gráfico acima, não existe um padrão aparente nestes dados nulos, a distribuição deles é completamente aleatória. Desta forma, uma solução possível seria substituí-los pela moda da coluna \"customer\", ou seja, pelo nome do comprador que mais aparece no dataset. Porém, como são poucos dados (apenas 4,8% do total), decidiu-se por excluí-los."
   ]
  },
  {
   "cell_type": "code",
   "execution_count": 153,
   "metadata": {},
   "outputs": [],
   "source": [
    "sales_df.dropna(subset = 'customer', inplace = True)"
   ]
  },
  {
   "cell_type": "markdown",
   "metadata": {},
   "source": [
    "Verificando agora a percentagem de dados nulos por coluna,"
   ]
  },
  {
   "cell_type": "code",
   "execution_count": 154,
   "metadata": {},
   "outputs": [
    {
     "data": {
      "text/plain": [
       "sale_date        0.0\n",
       "customer         0.0\n",
       "product          0.0\n",
       "quantity         0.0\n",
       "unit_price       0.0\n",
       "total_sale       0.0\n",
       "cost             0.0\n",
       "product_group    0.0\n",
       "dtype: float64"
      ]
     },
     "execution_count": 154,
     "metadata": {},
     "output_type": "execute_result"
    }
   ],
   "source": [
    "show_missing(sales_df)"
   ]
  },
  {
   "cell_type": "markdown",
   "metadata": {},
   "source": [
    "Conforme o resultado acima, todos as linhas com dados nulos da coluna \"customer\" foram removidas do dataset."
   ]
  },
  {
   "cell_type": "markdown",
   "metadata": {},
   "source": [
    "### Dados duplicados"
   ]
  },
  {
   "cell_type": "markdown",
   "metadata": {},
   "source": [
    "Verificando agora se existem linhas duplicadas no dataset,"
   ]
  },
  {
   "cell_type": "code",
   "execution_count": 155,
   "metadata": {},
   "outputs": [
    {
     "data": {
      "text/plain": [
       "0"
      ]
     },
     "execution_count": 155,
     "metadata": {},
     "output_type": "execute_result"
    }
   ],
   "source": [
    "sales_df.duplicated().sum()"
   ]
  },
  {
   "cell_type": "markdown",
   "metadata": {},
   "source": [
    "Portanto, não existem linhas duplicadas."
   ]
  },
  {
   "cell_type": "markdown",
   "metadata": {},
   "source": [
    "### Estatísticas descritivas e outliers"
   ]
  },
  {
   "cell_type": "markdown",
   "metadata": {},
   "source": [
    "Agora verifica-se as estatísticas descritivas das colunas com dados numéricos, exceto da coluna 'sale_date'."
   ]
  },
  {
   "cell_type": "code",
   "execution_count": 156,
   "metadata": {},
   "outputs": [
    {
     "data": {
      "text/html": [
       "<div>\n",
       "<style scoped>\n",
       "    .dataframe tbody tr th:only-of-type {\n",
       "        vertical-align: middle;\n",
       "    }\n",
       "\n",
       "    .dataframe tbody tr th {\n",
       "        vertical-align: top;\n",
       "    }\n",
       "\n",
       "    .dataframe thead th {\n",
       "        text-align: right;\n",
       "    }\n",
       "</style>\n",
       "<table border=\"1\" class=\"dataframe\">\n",
       "  <thead>\n",
       "    <tr style=\"text-align: right;\">\n",
       "      <th></th>\n",
       "      <th>quantity</th>\n",
       "      <th>unit_price</th>\n",
       "      <th>total_sale</th>\n",
       "      <th>cost</th>\n",
       "    </tr>\n",
       "  </thead>\n",
       "  <tbody>\n",
       "    <tr>\n",
       "      <th>count</th>\n",
       "      <td>476.000000</td>\n",
       "      <td>476.000000</td>\n",
       "      <td>476.000000</td>\n",
       "      <td>476.000000</td>\n",
       "    </tr>\n",
       "    <tr>\n",
       "      <th>mean</th>\n",
       "      <td>4.955882</td>\n",
       "      <td>48.860168</td>\n",
       "      <td>244.875630</td>\n",
       "      <td>196.027671</td>\n",
       "    </tr>\n",
       "    <tr>\n",
       "      <th>std</th>\n",
       "      <td>2.538990</td>\n",
       "      <td>28.658635</td>\n",
       "      <td>201.824924</td>\n",
       "      <td>161.612099</td>\n",
       "    </tr>\n",
       "    <tr>\n",
       "      <th>min</th>\n",
       "      <td>1.000000</td>\n",
       "      <td>1.210000</td>\n",
       "      <td>1.670000</td>\n",
       "      <td>1.396836</td>\n",
       "    </tr>\n",
       "    <tr>\n",
       "      <th>25%</th>\n",
       "      <td>3.000000</td>\n",
       "      <td>24.055000</td>\n",
       "      <td>78.150000</td>\n",
       "      <td>64.314977</td>\n",
       "    </tr>\n",
       "    <tr>\n",
       "      <th>50%</th>\n",
       "      <td>5.000000</td>\n",
       "      <td>48.490000</td>\n",
       "      <td>194.100000</td>\n",
       "      <td>152.452833</td>\n",
       "    </tr>\n",
       "    <tr>\n",
       "      <th>75%</th>\n",
       "      <td>7.000000</td>\n",
       "      <td>74.492500</td>\n",
       "      <td>373.072500</td>\n",
       "      <td>295.817910</td>\n",
       "    </tr>\n",
       "    <tr>\n",
       "      <th>max</th>\n",
       "      <td>9.000000</td>\n",
       "      <td>99.640000</td>\n",
       "      <td>885.420000</td>\n",
       "      <td>714.784900</td>\n",
       "    </tr>\n",
       "  </tbody>\n",
       "</table>\n",
       "</div>"
      ],
      "text/plain": [
       "         quantity  unit_price  total_sale        cost\n",
       "count  476.000000  476.000000  476.000000  476.000000\n",
       "mean     4.955882   48.860168  244.875630  196.027671\n",
       "std      2.538990   28.658635  201.824924  161.612099\n",
       "min      1.000000    1.210000    1.670000    1.396836\n",
       "25%      3.000000   24.055000   78.150000   64.314977\n",
       "50%      5.000000   48.490000  194.100000  152.452833\n",
       "75%      7.000000   74.492500  373.072500  295.817910\n",
       "max      9.000000   99.640000  885.420000  714.784900"
      ]
     },
     "execution_count": 156,
     "metadata": {},
     "output_type": "execute_result"
    }
   ],
   "source": [
    "sales_df.drop(columns = ['sale_date']).describe()"
   ]
  },
  {
   "cell_type": "markdown",
   "metadata": {},
   "source": [
    "Interessante avaliar que na coluna \"total_sale\" os valores mínimo e máximo de vendas é bem discrepante um do outro, sendo um mínimo de 1,67 e o máximo de 885,42, onde 75% dos dados desta coluna são no máximo iguais a 373 aproximadamente, com pouquíssimas compras acima deste valor. Isto explica também o alto desvio padrão (201,825).\n",
    "\n",
    "A coluna \"cost\" também tem comportamento semelhante a \"total_sale\", com um desvio padrão relativamente alto (161,61), o que corrobora com as pouquíssimas compras em valores de custo acima de 295,82.\n",
    "\n",
    "Pela análise da coluna \"quantity\" temos que os produtos são comprados em média a cada 5 unidades, com um valor máximo de 9 unidades. Já pela coluna \"unit_price\" sabe-se que o produto mais caro tem preço unitário de 99,64, onde 75% dos produtos tem preços de até 74,50.\n",
    "\n",
    "A seguir plotou-se gráficos do tipo boxplot, utilizando a biblioteca Seaborn, a fim de verificar a existência de outliers e visualizar as estatísticas descritivas acima calculadas. Para normatizar os dados e o gráfico não apresentar problemas de escala, visto que os valores presentes na coluna \"quantity\" são bem menores que os valores da coluna \"total_sale\" por exemplo, aplicou-se no dataset a função scale( ) da biblioteca sklearn, de tal forma que esta função converte os dados das colunas numéricas em distribuições com média igual a 0 e desvio padrão igual a 1. "
   ]
  },
  {
   "cell_type": "code",
   "execution_count": 157,
   "metadata": {},
   "outputs": [
    {
     "data": {
      "image/png": "[encoded data removed]",
      "text/plain": [
       "<Figure size 1200x800 with 1 Axes>"
      ]
     },
     "metadata": {},
     "output_type": "display_data"
    }
   ],
   "source": [
    "import matplotlib.pyplot as plt\n",
    "import seaborn as sns\n",
    "from sklearn.preprocessing import scale\n",
    "\n",
    "plt.figure(figsize = (12,8))\n",
    "sns.boxplot(data = sales_df.select_dtypes('number').apply(scale))\n",
    "plt.show()\n"
   ]
  },
  {
   "cell_type": "markdown",
   "metadata": {},
   "source": [
    "Pelo gráfico acima, percebe-se que as colunas \"total_sale\" e \"cost\" apresentam 3 outliers cada uma. Para validar estas quantidades, pode-se definir uma função para calcular os outliers, conforme demonstrado abaixo, onde q1 é o primeiro quartil, q3 é o terceiro quartil e iqr é o intervalo interquartil. Utilizou-se como padrão um fator = 1.5."
   ]
  },
  {
   "cell_type": "code",
   "execution_count": 158,
   "metadata": {},
   "outputs": [],
   "source": [
    "import numpy as np\n",
    "\n",
    "def is_outlier (array):\n",
    "    q1, q3 = np.quantile(array, [0.25, 0.75])\n",
    "    iqr = q3-q1\n",
    "\n",
    "    upper_outlier = q3 + 1.5*iqr\n",
    "    lower_outlier = q1 - 1.5*iqr\n",
    "\n",
    "    return ((array<lower_outlier) | (array>upper_outlier))"
   ]
  },
  {
   "cell_type": "markdown",
   "metadata": {},
   "source": [
    "Aplicando a função as colunas do dataset, somando as quantidades, tem-se os dados da quantidade de outlier por coluna numérica."
   ]
  },
  {
   "cell_type": "code",
   "execution_count": 159,
   "metadata": {},
   "outputs": [
    {
     "data": {
      "text/plain": [
       "quantity      0\n",
       "unit_price    0\n",
       "total_sale    3\n",
       "cost          3\n",
       "dtype: int64"
      ]
     },
     "execution_count": 159,
     "metadata": {},
     "output_type": "execute_result"
    }
   ],
   "source": [
    "sales_df.select_dtypes('number').apply(is_outlier).sum()"
   ]
  },
  {
   "cell_type": "markdown",
   "metadata": {},
   "source": [
    "Para este caso, como é sabido que estes outliers são naturais, ou seja, não são provenientes de erros humanos e sim consequência das colunas de \"quantity\" e \"unit_price\", eles não seram excluídos da análise. "
   ]
  },
  {
   "cell_type": "markdown",
   "metadata": {},
   "source": [
    "## Calculando as métricas"
   ]
  },
  {
   "cell_type": "markdown",
   "metadata": {},
   "source": [
    "### Lucro por produto"
   ]
  },
  {
   "cell_type": "markdown",
   "metadata": {},
   "source": [
    "Para ser avaliado o lucro por produto e posteriormente o produto mais lucrativo, primeiro é necessário criar a coluna com os dados de lucro. Desta forma, calcula-se o lucro a partir da venda total menos o preço de custo, conforme demonstrado abaixo."
   ]
  },
  {
   "cell_type": "code",
   "execution_count": 160,
   "metadata": {},
   "outputs": [],
   "source": [
    "sales_df['profit'] = sales_df['total_sale'] - sales_df['cost']"
   ]
  },
  {
   "cell_type": "code",
   "execution_count": 161,
   "metadata": {},
   "outputs": [
    {
     "data": {
      "text/html": [
       "<div>\n",
       "<style scoped>\n",
       "    .dataframe tbody tr th:only-of-type {\n",
       "        vertical-align: middle;\n",
       "    }\n",
       "\n",
       "    .dataframe tbody tr th {\n",
       "        vertical-align: top;\n",
       "    }\n",
       "\n",
       "    .dataframe thead th {\n",
       "        text-align: right;\n",
       "    }\n",
       "</style>\n",
       "<table border=\"1\" class=\"dataframe\">\n",
       "  <thead>\n",
       "    <tr style=\"text-align: right;\">\n",
       "      <th></th>\n",
       "      <th>sale_date</th>\n",
       "      <th>customer</th>\n",
       "      <th>product</th>\n",
       "      <th>quantity</th>\n",
       "      <th>unit_price</th>\n",
       "      <th>total_sale</th>\n",
       "      <th>cost</th>\n",
       "      <th>product_group</th>\n",
       "      <th>profit</th>\n",
       "    </tr>\n",
       "    <tr>\n",
       "      <th>sale_id</th>\n",
       "      <th></th>\n",
       "      <th></th>\n",
       "      <th></th>\n",
       "      <th></th>\n",
       "      <th></th>\n",
       "      <th></th>\n",
       "      <th></th>\n",
       "      <th></th>\n",
       "      <th></th>\n",
       "    </tr>\n",
       "  </thead>\n",
       "  <tbody>\n",
       "    <tr>\n",
       "      <th>0</th>\n",
       "      <td>2020-01-01 00:00:00.000000000</td>\n",
       "      <td>José</td>\n",
       "      <td>Produto C</td>\n",
       "      <td>4</td>\n",
       "      <td>32.18</td>\n",
       "      <td>128.72</td>\n",
       "      <td>112.392212</td>\n",
       "      <td>C</td>\n",
       "      <td>16.327788</td>\n",
       "    </tr>\n",
       "    <tr>\n",
       "      <th>1</th>\n",
       "      <td>2020-01-01 17:33:18.396793587</td>\n",
       "      <td>Paulo</td>\n",
       "      <td>Produto A</td>\n",
       "      <td>9</td>\n",
       "      <td>67.42</td>\n",
       "      <td>606.78</td>\n",
       "      <td>505.560688</td>\n",
       "      <td>B</td>\n",
       "      <td>101.219312</td>\n",
       "    </tr>\n",
       "    <tr>\n",
       "      <th>2</th>\n",
       "      <td>2020-01-02 11:06:36.793587174</td>\n",
       "      <td>José</td>\n",
       "      <td>Produto C</td>\n",
       "      <td>1</td>\n",
       "      <td>14.92</td>\n",
       "      <td>14.92</td>\n",
       "      <td>12.334824</td>\n",
       "      <td>A</td>\n",
       "      <td>2.585176</td>\n",
       "    </tr>\n",
       "    <tr>\n",
       "      <th>3</th>\n",
       "      <td>2020-01-03 04:39:55.190380761</td>\n",
       "      <td>Maria</td>\n",
       "      <td>Produto B</td>\n",
       "      <td>9</td>\n",
       "      <td>65.09</td>\n",
       "      <td>585.81</td>\n",
       "      <td>472.851216</td>\n",
       "      <td>C</td>\n",
       "      <td>112.958784</td>\n",
       "    </tr>\n",
       "    <tr>\n",
       "      <th>4</th>\n",
       "      <td>2020-01-03 22:13:13.587174348</td>\n",
       "      <td>Ana</td>\n",
       "      <td>Produto B</td>\n",
       "      <td>8</td>\n",
       "      <td>28.02</td>\n",
       "      <td>224.16</td>\n",
       "      <td>174.989413</td>\n",
       "      <td>B</td>\n",
       "      <td>49.170587</td>\n",
       "    </tr>\n",
       "  </tbody>\n",
       "</table>\n",
       "</div>"
      ],
      "text/plain": [
       "                            sale_date customer    product  quantity  \\\n",
       "sale_id                                                               \n",
       "0       2020-01-01 00:00:00.000000000     José  Produto C         4   \n",
       "1       2020-01-01 17:33:18.396793587    Paulo  Produto A         9   \n",
       "2       2020-01-02 11:06:36.793587174     José  Produto C         1   \n",
       "3       2020-01-03 04:39:55.190380761    Maria  Produto B         9   \n",
       "4       2020-01-03 22:13:13.587174348      Ana  Produto B         8   \n",
       "\n",
       "         unit_price  total_sale        cost product_group      profit  \n",
       "sale_id                                                                \n",
       "0             32.18      128.72  112.392212             C   16.327788  \n",
       "1             67.42      606.78  505.560688             B  101.219312  \n",
       "2             14.92       14.92   12.334824             A    2.585176  \n",
       "3             65.09      585.81  472.851216             C  112.958784  \n",
       "4             28.02      224.16  174.989413             B   49.170587  "
      ]
     },
     "execution_count": 161,
     "metadata": {},
     "output_type": "execute_result"
    }
   ],
   "source": [
    "sales_df.head()"
   ]
  },
  {
   "cell_type": "markdown",
   "metadata": {},
   "source": [
    "Assim, agrupa-se o dataset por produto, mostrando a média de lucro por produto."
   ]
  },
  {
   "cell_type": "code",
   "execution_count": 162,
   "metadata": {},
   "outputs": [
    {
     "data": {
      "text/html": [
       "<div>\n",
       "<style scoped>\n",
       "    .dataframe tbody tr th:only-of-type {\n",
       "        vertical-align: middle;\n",
       "    }\n",
       "\n",
       "    .dataframe tbody tr th {\n",
       "        vertical-align: top;\n",
       "    }\n",
       "\n",
       "    .dataframe thead th {\n",
       "        text-align: right;\n",
       "    }\n",
       "</style>\n",
       "<table border=\"1\" class=\"dataframe\">\n",
       "  <thead>\n",
       "    <tr style=\"text-align: right;\">\n",
       "      <th></th>\n",
       "      <th>product</th>\n",
       "      <th>profit</th>\n",
       "    </tr>\n",
       "  </thead>\n",
       "  <tbody>\n",
       "    <tr>\n",
       "      <th>0</th>\n",
       "      <td>Produto D</td>\n",
       "      <td>54.61</td>\n",
       "    </tr>\n",
       "    <tr>\n",
       "      <th>1</th>\n",
       "      <td>Produto B</td>\n",
       "      <td>50.24</td>\n",
       "    </tr>\n",
       "    <tr>\n",
       "      <th>2</th>\n",
       "      <td>Produto A</td>\n",
       "      <td>45.17</td>\n",
       "    </tr>\n",
       "    <tr>\n",
       "      <th>3</th>\n",
       "      <td>Produto C</td>\n",
       "      <td>43.70</td>\n",
       "    </tr>\n",
       "  </tbody>\n",
       "</table>\n",
       "</div>"
      ],
      "text/plain": [
       "     product  profit\n",
       "0  Produto D   54.61\n",
       "1  Produto B   50.24\n",
       "2  Produto A   45.17\n",
       "3  Produto C   43.70"
      ]
     },
     "execution_count": 162,
     "metadata": {},
     "output_type": "execute_result"
    }
   ],
   "source": [
    "profit_by_product = round(sales_df.groupby(by = 'product')['profit'].agg('mean').sort_values(ascending = False).reset_index(), 2)\n",
    "profit_by_product"
   ]
  },
  {
   "cell_type": "markdown",
   "metadata": {},
   "source": [
    "Renomeando as colunas,"
   ]
  },
  {
   "cell_type": "code",
   "execution_count": 190,
   "metadata": {},
   "outputs": [],
   "source": [
    "profit_by_product.rename(\n",
    "    columns = {'product': 'Produto', 'profit': 'Lucro'},\n",
    "    inplace = True\n",
    ")"
   ]
  },
  {
   "cell_type": "code",
   "execution_count": 191,
   "metadata": {},
   "outputs": [
    {
     "data": {
      "text/html": [
       "<div>\n",
       "<style scoped>\n",
       "    .dataframe tbody tr th:only-of-type {\n",
       "        vertical-align: middle;\n",
       "    }\n",
       "\n",
       "    .dataframe tbody tr th {\n",
       "        vertical-align: top;\n",
       "    }\n",
       "\n",
       "    .dataframe thead th {\n",
       "        text-align: right;\n",
       "    }\n",
       "</style>\n",
       "<table border=\"1\" class=\"dataframe\">\n",
       "  <thead>\n",
       "    <tr style=\"text-align: right;\">\n",
       "      <th></th>\n",
       "      <th>Produto</th>\n",
       "      <th>Lucro</th>\n",
       "    </tr>\n",
       "  </thead>\n",
       "  <tbody>\n",
       "    <tr>\n",
       "      <th>0</th>\n",
       "      <td>Produto D</td>\n",
       "      <td>54.61</td>\n",
       "    </tr>\n",
       "    <tr>\n",
       "      <th>1</th>\n",
       "      <td>Produto B</td>\n",
       "      <td>50.24</td>\n",
       "    </tr>\n",
       "    <tr>\n",
       "      <th>2</th>\n",
       "      <td>Produto A</td>\n",
       "      <td>45.17</td>\n",
       "    </tr>\n",
       "    <tr>\n",
       "      <th>3</th>\n",
       "      <td>Produto C</td>\n",
       "      <td>43.70</td>\n",
       "    </tr>\n",
       "  </tbody>\n",
       "</table>\n",
       "</div>"
      ],
      "text/plain": [
       "     Produto  Lucro\n",
       "0  Produto D  54.61\n",
       "1  Produto B  50.24\n",
       "2  Produto A  45.17\n",
       "3  Produto C  43.70"
      ]
     },
     "execution_count": 191,
     "metadata": {},
     "output_type": "execute_result"
    }
   ],
   "source": [
    "profit_by_product"
   ]
  },
  {
   "cell_type": "markdown",
   "metadata": {},
   "source": [
    "Plotando um gráfico de barras do resultado acima,"
   ]
  },
  {
   "cell_type": "code",
   "execution_count": 192,
   "metadata": {},
   "outputs": [
    {
     "data": {
      "image/png": "[encoded data removed]",
      "text/plain": [
       "<Figure size 1000x600 with 1 Axes>"
      ]
     },
     "metadata": {},
     "output_type": "display_data"
    }
   ],
   "source": [
    "plt.figure(figsize=(10,6))\n",
    "sns.barplot(data = profit_by_product, x = 'Produto', y = 'Lucro')\n",
    "plt.xlabel('Produtos')\n",
    "plt.ylabel('Lucros')\n",
    "plt.title('Lucro por produto')\n",
    "plt.show()"
   ]
  },
  {
   "cell_type": "markdown",
   "metadata": {},
   "source": [
    "### Produto mais lucrativo"
   ]
  },
  {
   "cell_type": "code",
   "execution_count": 193,
   "metadata": {},
   "outputs": [
    {
     "data": {
      "text/html": [
       "<div>\n",
       "<style scoped>\n",
       "    .dataframe tbody tr th:only-of-type {\n",
       "        vertical-align: middle;\n",
       "    }\n",
       "\n",
       "    .dataframe tbody tr th {\n",
       "        vertical-align: top;\n",
       "    }\n",
       "\n",
       "    .dataframe thead th {\n",
       "        text-align: right;\n",
       "    }\n",
       "</style>\n",
       "<table border=\"1\" class=\"dataframe\">\n",
       "  <thead>\n",
       "    <tr style=\"text-align: right;\">\n",
       "      <th></th>\n",
       "      <th>Produto</th>\n",
       "      <th>Lucro</th>\n",
       "    </tr>\n",
       "  </thead>\n",
       "  <tbody>\n",
       "    <tr>\n",
       "      <th>0</th>\n",
       "      <td>Produto D</td>\n",
       "      <td>54.61</td>\n",
       "    </tr>\n",
       "  </tbody>\n",
       "</table>\n",
       "</div>"
      ],
      "text/plain": [
       "     Produto  Lucro\n",
       "0  Produto D  54.61"
      ]
     },
     "execution_count": 193,
     "metadata": {},
     "output_type": "execute_result"
    }
   ],
   "source": [
    "profit_by_product.head(1)"
   ]
  },
  {
   "cell_type": "markdown",
   "metadata": {},
   "source": [
    "Conforme demonstrado acima, o produto mais lucrativo é o Produto D, com 54,61 de lucro médio."
   ]
  },
  {
   "cell_type": "markdown",
   "metadata": {},
   "source": [
    "### Produtos mais e menos vendidos"
   ]
  },
  {
   "cell_type": "markdown",
   "metadata": {},
   "source": [
    "Para calcular os produtos mais e menos vendidos, agrupou-se novamente o dataset por produto, mostrando agora as quantidades vendidas de cada um."
   ]
  },
  {
   "cell_type": "code",
   "execution_count": 165,
   "metadata": {},
   "outputs": [
    {
     "data": {
      "text/html": [
       "<div>\n",
       "<style scoped>\n",
       "    .dataframe tbody tr th:only-of-type {\n",
       "        vertical-align: middle;\n",
       "    }\n",
       "\n",
       "    .dataframe tbody tr th {\n",
       "        vertical-align: top;\n",
       "    }\n",
       "\n",
       "    .dataframe thead th {\n",
       "        text-align: right;\n",
       "    }\n",
       "</style>\n",
       "<table border=\"1\" class=\"dataframe\">\n",
       "  <thead>\n",
       "    <tr style=\"text-align: right;\">\n",
       "      <th></th>\n",
       "      <th>product</th>\n",
       "      <th>quantity</th>\n",
       "    </tr>\n",
       "  </thead>\n",
       "  <tbody>\n",
       "    <tr>\n",
       "      <th>0</th>\n",
       "      <td>Produto D</td>\n",
       "      <td>678</td>\n",
       "    </tr>\n",
       "    <tr>\n",
       "      <th>1</th>\n",
       "      <td>Produto B</td>\n",
       "      <td>622</td>\n",
       "    </tr>\n",
       "    <tr>\n",
       "      <th>2</th>\n",
       "      <td>Produto C</td>\n",
       "      <td>541</td>\n",
       "    </tr>\n",
       "    <tr>\n",
       "      <th>3</th>\n",
       "      <td>Produto A</td>\n",
       "      <td>518</td>\n",
       "    </tr>\n",
       "  </tbody>\n",
       "</table>\n",
       "</div>"
      ],
      "text/plain": [
       "     product  quantity\n",
       "0  Produto D       678\n",
       "1  Produto B       622\n",
       "2  Produto C       541\n",
       "3  Produto A       518"
      ]
     },
     "execution_count": 165,
     "metadata": {},
     "output_type": "execute_result"
    }
   ],
   "source": [
    "quantity_by_product = sales_df.groupby(by = 'product')['quantity'].agg('sum').sort_values(ascending = False).reset_index()\n",
    "quantity_by_product"
   ]
  },
  {
   "cell_type": "markdown",
   "metadata": {},
   "source": [
    "Renomeando as colunas,"
   ]
  },
  {
   "cell_type": "code",
   "execution_count": 194,
   "metadata": {},
   "outputs": [
    {
     "data": {
      "text/html": [
       "<div>\n",
       "<style scoped>\n",
       "    .dataframe tbody tr th:only-of-type {\n",
       "        vertical-align: middle;\n",
       "    }\n",
       "\n",
       "    .dataframe tbody tr th {\n",
       "        vertical-align: top;\n",
       "    }\n",
       "\n",
       "    .dataframe thead th {\n",
       "        text-align: right;\n",
       "    }\n",
       "</style>\n",
       "<table border=\"1\" class=\"dataframe\">\n",
       "  <thead>\n",
       "    <tr style=\"text-align: right;\">\n",
       "      <th></th>\n",
       "      <th>Produto</th>\n",
       "      <th>Quantidade</th>\n",
       "    </tr>\n",
       "  </thead>\n",
       "  <tbody>\n",
       "    <tr>\n",
       "      <th>0</th>\n",
       "      <td>Produto D</td>\n",
       "      <td>678</td>\n",
       "    </tr>\n",
       "    <tr>\n",
       "      <th>1</th>\n",
       "      <td>Produto B</td>\n",
       "      <td>622</td>\n",
       "    </tr>\n",
       "    <tr>\n",
       "      <th>2</th>\n",
       "      <td>Produto C</td>\n",
       "      <td>541</td>\n",
       "    </tr>\n",
       "    <tr>\n",
       "      <th>3</th>\n",
       "      <td>Produto A</td>\n",
       "      <td>518</td>\n",
       "    </tr>\n",
       "  </tbody>\n",
       "</table>\n",
       "</div>"
      ],
      "text/plain": [
       "     Produto  Quantidade\n",
       "0  Produto D         678\n",
       "1  Produto B         622\n",
       "2  Produto C         541\n",
       "3  Produto A         518"
      ]
     },
     "execution_count": 194,
     "metadata": {},
     "output_type": "execute_result"
    }
   ],
   "source": [
    "quantity_by_product.rename(\n",
    "    columns = {'product': 'Produto', 'quantity': 'Quantidade'},\n",
    "    inplace = True\n",
    ")\n",
    "\n",
    "quantity_by_product"
   ]
  },
  {
   "cell_type": "markdown",
   "metadata": {},
   "source": [
    "Conforme os resultados acima expostos, o produto mais vendido foi o Produto D, com 678 unidades vendidas. Já o produto menos vendido foi o produto A, com 518 unidades vendidas.\n",
    "\n",
    "Demonstrando isso graficamente,"
   ]
  },
  {
   "cell_type": "code",
   "execution_count": 195,
   "metadata": {},
   "outputs": [
    {
     "data": {
      "image/png": "[encoded data removed]",
      "text/plain": [
       "<Figure size 1000x600 with 1 Axes>"
      ]
     },
     "metadata": {},
     "output_type": "display_data"
    }
   ],
   "source": [
    "plt.figure(figsize=(10,6))\n",
    "sns.barplot(data=quantity_by_product, x = 'Produto', y = 'Quantidade')\n",
    "plt.xlabel('Quantidade')\n",
    "plt.ylabel('Produtos')\n",
    "plt.title('Quantidade de produtos vendidos')\n",
    "plt.show()"
   ]
  },
  {
   "cell_type": "markdown",
   "metadata": {},
   "source": [
    "Avaliou-se agora as quantidades de produtos vendidos por grupo de produto."
   ]
  },
  {
   "cell_type": "code",
   "execution_count": 167,
   "metadata": {},
   "outputs": [
    {
     "data": {
      "text/html": [
       "<div>\n",
       "<style scoped>\n",
       "    .dataframe tbody tr th:only-of-type {\n",
       "        vertical-align: middle;\n",
       "    }\n",
       "\n",
       "    .dataframe tbody tr th {\n",
       "        vertical-align: top;\n",
       "    }\n",
       "\n",
       "    .dataframe thead th {\n",
       "        text-align: right;\n",
       "    }\n",
       "</style>\n",
       "<table border=\"1\" class=\"dataframe\">\n",
       "  <thead>\n",
       "    <tr style=\"text-align: right;\">\n",
       "      <th></th>\n",
       "      <th>product_group</th>\n",
       "      <th>quantity</th>\n",
       "    </tr>\n",
       "  </thead>\n",
       "  <tbody>\n",
       "    <tr>\n",
       "      <th>0</th>\n",
       "      <td>C</td>\n",
       "      <td>911</td>\n",
       "    </tr>\n",
       "    <tr>\n",
       "      <th>1</th>\n",
       "      <td>A</td>\n",
       "      <td>762</td>\n",
       "    </tr>\n",
       "    <tr>\n",
       "      <th>2</th>\n",
       "      <td>B</td>\n",
       "      <td>686</td>\n",
       "    </tr>\n",
       "  </tbody>\n",
       "</table>\n",
       "</div>"
      ],
      "text/plain": [
       "  product_group  quantity\n",
       "0             C       911\n",
       "1             A       762\n",
       "2             B       686"
      ]
     },
     "execution_count": 167,
     "metadata": {},
     "output_type": "execute_result"
    }
   ],
   "source": [
    "quantity_by_group = sales_df.groupby(by = 'product_group')['quantity'].agg('sum').sort_values(ascending = False).reset_index()\n",
    "quantity_by_group"
   ]
  },
  {
   "cell_type": "markdown",
   "metadata": {},
   "source": [
    "Renomeando as colunas,"
   ]
  },
  {
   "cell_type": "code",
   "execution_count": 196,
   "metadata": {},
   "outputs": [
    {
     "data": {
      "text/html": [
       "<div>\n",
       "<style scoped>\n",
       "    .dataframe tbody tr th:only-of-type {\n",
       "        vertical-align: middle;\n",
       "    }\n",
       "\n",
       "    .dataframe tbody tr th {\n",
       "        vertical-align: top;\n",
       "    }\n",
       "\n",
       "    .dataframe thead th {\n",
       "        text-align: right;\n",
       "    }\n",
       "</style>\n",
       "<table border=\"1\" class=\"dataframe\">\n",
       "  <thead>\n",
       "    <tr style=\"text-align: right;\">\n",
       "      <th></th>\n",
       "      <th>Grupo_produto</th>\n",
       "      <th>Quantidade</th>\n",
       "    </tr>\n",
       "  </thead>\n",
       "  <tbody>\n",
       "    <tr>\n",
       "      <th>0</th>\n",
       "      <td>C</td>\n",
       "      <td>911</td>\n",
       "    </tr>\n",
       "    <tr>\n",
       "      <th>1</th>\n",
       "      <td>A</td>\n",
       "      <td>762</td>\n",
       "    </tr>\n",
       "    <tr>\n",
       "      <th>2</th>\n",
       "      <td>B</td>\n",
       "      <td>686</td>\n",
       "    </tr>\n",
       "  </tbody>\n",
       "</table>\n",
       "</div>"
      ],
      "text/plain": [
       "  Grupo_produto  Quantidade\n",
       "0             C         911\n",
       "1             A         762\n",
       "2             B         686"
      ]
     },
     "execution_count": 196,
     "metadata": {},
     "output_type": "execute_result"
    }
   ],
   "source": [
    "quantity_by_group.rename(\n",
    "    columns = {'product_group': 'Grupo_produto', 'quantity': 'Quantidade'},\n",
    "    inplace = True\n",
    ")\n",
    "\n",
    "quantity_by_group"
   ]
  },
  {
   "cell_type": "markdown",
   "metadata": {},
   "source": [
    "Graficamente, tem-se:"
   ]
  },
  {
   "cell_type": "code",
   "execution_count": 197,
   "metadata": {},
   "outputs": [
    {
     "data": {
      "image/png": "[encoded data removed]",
      "text/plain": [
       "<Figure size 1000x600 with 1 Axes>"
      ]
     },
     "metadata": {},
     "output_type": "display_data"
    }
   ],
   "source": [
    "plt.figure(figsize = (10,6))\n",
    "sns.barplot(\n",
    "    data = quantity_by_group,\n",
    "    x = 'Grupo_produto',\n",
    "    y = 'Quantidade')\n",
    "plt.xlabel('Grupos de produto')\n",
    "plt.ylabel('Quantidades vendidas')\n",
    "plt.title('Quantidades de produtos vendidos por grupo')\n",
    "plt.show()"
   ]
  },
  {
   "cell_type": "markdown",
   "metadata": {},
   "source": [
    "### 5 primeiros clientes que mais compram"
   ]
  },
  {
   "cell_type": "markdown",
   "metadata": {},
   "source": [
    "Para avaliar-se a distribuição de vendas por cliente, utiliza-se da coluna \"customer\" de tal forma que, utilizando a função value_counts, contou-se quantas vezes cada nome de cliente aparece na coluna."
   ]
  },
  {
   "cell_type": "code",
   "execution_count": 169,
   "metadata": {},
   "outputs": [
    {
     "data": {
      "text/plain": [
       "customer\n",
       "Maria    105\n",
       "Ana      100\n",
       "José      91\n",
       "Paulo     91\n",
       "João      89\n",
       "Name: count, dtype: int64"
      ]
     },
     "execution_count": 169,
     "metadata": {},
     "output_type": "execute_result"
    }
   ],
   "source": [
    "sales_df['customer'].value_counts()"
   ]
  },
  {
   "cell_type": "markdown",
   "metadata": {},
   "source": [
    "Pode-se criar um Data Frame novo a partir destes resultados,"
   ]
  },
  {
   "cell_type": "code",
   "execution_count": 175,
   "metadata": {},
   "outputs": [
    {
     "data": {
      "text/html": [
       "<div>\n",
       "<style scoped>\n",
       "    .dataframe tbody tr th:only-of-type {\n",
       "        vertical-align: middle;\n",
       "    }\n",
       "\n",
       "    .dataframe tbody tr th {\n",
       "        vertical-align: top;\n",
       "    }\n",
       "\n",
       "    .dataframe thead th {\n",
       "        text-align: right;\n",
       "    }\n",
       "</style>\n",
       "<table border=\"1\" class=\"dataframe\">\n",
       "  <thead>\n",
       "    <tr style=\"text-align: right;\">\n",
       "      <th></th>\n",
       "      <th>count</th>\n",
       "    </tr>\n",
       "    <tr>\n",
       "      <th>customer</th>\n",
       "      <th></th>\n",
       "    </tr>\n",
       "  </thead>\n",
       "  <tbody>\n",
       "    <tr>\n",
       "      <th>Maria</th>\n",
       "      <td>105</td>\n",
       "    </tr>\n",
       "    <tr>\n",
       "      <th>Ana</th>\n",
       "      <td>100</td>\n",
       "    </tr>\n",
       "    <tr>\n",
       "      <th>José</th>\n",
       "      <td>91</td>\n",
       "    </tr>\n",
       "    <tr>\n",
       "      <th>Paulo</th>\n",
       "      <td>91</td>\n",
       "    </tr>\n",
       "    <tr>\n",
       "      <th>João</th>\n",
       "      <td>89</td>\n",
       "    </tr>\n",
       "  </tbody>\n",
       "</table>\n",
       "</div>"
      ],
      "text/plain": [
       "          count\n",
       "customer       \n",
       "Maria       105\n",
       "Ana         100\n",
       "José         91\n",
       "Paulo        91\n",
       "João         89"
      ]
     },
     "execution_count": 175,
     "metadata": {},
     "output_type": "execute_result"
    }
   ],
   "source": [
    "purchases_by_customer = pd.DataFrame(data = sales_df['customer'].value_counts())\n",
    "purchases_by_customer"
   ]
  },
  {
   "cell_type": "markdown",
   "metadata": {},
   "source": [
    "Ajustando o index e as colunas do dataset,"
   ]
  },
  {
   "cell_type": "code",
   "execution_count": 176,
   "metadata": {},
   "outputs": [
    {
     "data": {
      "text/html": [
       "<div>\n",
       "<style scoped>\n",
       "    .dataframe tbody tr th:only-of-type {\n",
       "        vertical-align: middle;\n",
       "    }\n",
       "\n",
       "    .dataframe tbody tr th {\n",
       "        vertical-align: top;\n",
       "    }\n",
       "\n",
       "    .dataframe thead th {\n",
       "        text-align: right;\n",
       "    }\n",
       "</style>\n",
       "<table border=\"1\" class=\"dataframe\">\n",
       "  <thead>\n",
       "    <tr style=\"text-align: right;\">\n",
       "      <th></th>\n",
       "      <th>customer</th>\n",
       "      <th>count</th>\n",
       "    </tr>\n",
       "  </thead>\n",
       "  <tbody>\n",
       "    <tr>\n",
       "      <th>0</th>\n",
       "      <td>Maria</td>\n",
       "      <td>105</td>\n",
       "    </tr>\n",
       "    <tr>\n",
       "      <th>1</th>\n",
       "      <td>Ana</td>\n",
       "      <td>100</td>\n",
       "    </tr>\n",
       "    <tr>\n",
       "      <th>2</th>\n",
       "      <td>José</td>\n",
       "      <td>91</td>\n",
       "    </tr>\n",
       "    <tr>\n",
       "      <th>3</th>\n",
       "      <td>Paulo</td>\n",
       "      <td>91</td>\n",
       "    </tr>\n",
       "    <tr>\n",
       "      <th>4</th>\n",
       "      <td>João</td>\n",
       "      <td>89</td>\n",
       "    </tr>\n",
       "  </tbody>\n",
       "</table>\n",
       "</div>"
      ],
      "text/plain": [
       "  customer  count\n",
       "0    Maria    105\n",
       "1      Ana    100\n",
       "2     José     91\n",
       "3    Paulo     91\n",
       "4     João     89"
      ]
     },
     "execution_count": 176,
     "metadata": {},
     "output_type": "execute_result"
    }
   ],
   "source": [
    "purchases_by_customer = purchases_by_customer.reset_index()\n",
    "purchases_by_customer"
   ]
  },
  {
   "cell_type": "code",
   "execution_count": 177,
   "metadata": {},
   "outputs": [
    {
     "data": {
      "text/html": [
       "<div>\n",
       "<style scoped>\n",
       "    .dataframe tbody tr th:only-of-type {\n",
       "        vertical-align: middle;\n",
       "    }\n",
       "\n",
       "    .dataframe tbody tr th {\n",
       "        vertical-align: top;\n",
       "    }\n",
       "\n",
       "    .dataframe thead th {\n",
       "        text-align: right;\n",
       "    }\n",
       "</style>\n",
       "<table border=\"1\" class=\"dataframe\">\n",
       "  <thead>\n",
       "    <tr style=\"text-align: right;\">\n",
       "      <th></th>\n",
       "      <th>cliente</th>\n",
       "      <th>quantidade_comprada</th>\n",
       "    </tr>\n",
       "  </thead>\n",
       "  <tbody>\n",
       "    <tr>\n",
       "      <th>0</th>\n",
       "      <td>Maria</td>\n",
       "      <td>105</td>\n",
       "    </tr>\n",
       "    <tr>\n",
       "      <th>1</th>\n",
       "      <td>Ana</td>\n",
       "      <td>100</td>\n",
       "    </tr>\n",
       "    <tr>\n",
       "      <th>2</th>\n",
       "      <td>José</td>\n",
       "      <td>91</td>\n",
       "    </tr>\n",
       "    <tr>\n",
       "      <th>3</th>\n",
       "      <td>Paulo</td>\n",
       "      <td>91</td>\n",
       "    </tr>\n",
       "    <tr>\n",
       "      <th>4</th>\n",
       "      <td>João</td>\n",
       "      <td>89</td>\n",
       "    </tr>\n",
       "  </tbody>\n",
       "</table>\n",
       "</div>"
      ],
      "text/plain": [
       "  cliente  quantidade_comprada\n",
       "0   Maria                  105\n",
       "1     Ana                  100\n",
       "2    José                   91\n",
       "3   Paulo                   91\n",
       "4    João                   89"
      ]
     },
     "execution_count": 177,
     "metadata": {},
     "output_type": "execute_result"
    }
   ],
   "source": [
    "purchases_by_customer = purchases_by_customer.rename(columns = {'customer':'cliente', 'count':'quantidade_comprada'})\n",
    "purchases_by_customer"
   ]
  },
  {
   "cell_type": "markdown",
   "metadata": {},
   "source": [
    "Plotando o gráfico para visualização dos dados,"
   ]
  },
  {
   "cell_type": "code",
   "execution_count": 178,
   "metadata": {},
   "outputs": [
    {
     "data": {
      "image/png": "[encoded data removed]",
      "text/plain": [
       "<Figure size 1000x600 with 1 Axes>"
      ]
     },
     "metadata": {},
     "output_type": "display_data"
    }
   ],
   "source": [
    "plt.figure(figsize = (10,6))\n",
    "sns.barplot(\n",
    "    data = purchases_by_customer,\n",
    "    x = 'cliente',\n",
    "    y = 'quantidade_comprada',\n",
    "    errorbar = None\n",
    "    )\n",
    "plt.xlabel('Clientes')\n",
    "plt.ylabel('Quantidade de produtos')\n",
    "plt.title('Quantidade de produtos comprados por cliente')\n",
    "plt.show()"
   ]
  },
  {
   "cell_type": "markdown",
   "metadata": {},
   "source": [
    "### Frequência de compra por cliente"
   ]
  },
  {
   "cell_type": "markdown",
   "metadata": {},
   "source": [
    "Para calcular esta métrica, primeiro foi criada uma nova coluna no dataset, contendo a diferença de dias entre as compras para cada cliente. Isto foi feito utlizando-se algumas ferramentas que os dados do tipo datetime permitem utilizar."
   ]
  },
  {
   "cell_type": "code",
   "execution_count": 179,
   "metadata": {},
   "outputs": [
    {
     "data": {
      "text/plain": [
       "sale_id\n",
       "0      NaN\n",
       "1      NaN\n",
       "2      1.0\n",
       "3      NaN\n",
       "4      NaN\n",
       "      ... \n",
       "495    2.0\n",
       "496    2.0\n",
       "497    5.0\n",
       "498    0.0\n",
       "499    2.0\n",
       "Name: days_diff, Length: 476, dtype: float64"
      ]
     },
     "execution_count": 179,
     "metadata": {},
     "output_type": "execute_result"
    }
   ],
   "source": [
    "# criando-se a nova coluna\n",
    "sales_df['days_diff'] = sales_df.groupby(by = 'customer')['sale_date'].diff().dt.days\n",
    "sales_df['days_diff']"
   ]
  },
  {
   "cell_type": "markdown",
   "metadata": {},
   "source": [
    "Exibindo o dataset com a nova coluna,"
   ]
  },
  {
   "cell_type": "code",
   "execution_count": 180,
   "metadata": {},
   "outputs": [
    {
     "data": {
      "text/html": [
       "<div>\n",
       "<style scoped>\n",
       "    .dataframe tbody tr th:only-of-type {\n",
       "        vertical-align: middle;\n",
       "    }\n",
       "\n",
       "    .dataframe tbody tr th {\n",
       "        vertical-align: top;\n",
       "    }\n",
       "\n",
       "    .dataframe thead th {\n",
       "        text-align: right;\n",
       "    }\n",
       "</style>\n",
       "<table border=\"1\" class=\"dataframe\">\n",
       "  <thead>\n",
       "    <tr style=\"text-align: right;\">\n",
       "      <th></th>\n",
       "      <th>sale_date</th>\n",
       "      <th>customer</th>\n",
       "      <th>product</th>\n",
       "      <th>quantity</th>\n",
       "      <th>unit_price</th>\n",
       "      <th>total_sale</th>\n",
       "      <th>cost</th>\n",
       "      <th>product_group</th>\n",
       "      <th>profit</th>\n",
       "      <th>days_diff</th>\n",
       "    </tr>\n",
       "    <tr>\n",
       "      <th>sale_id</th>\n",
       "      <th></th>\n",
       "      <th></th>\n",
       "      <th></th>\n",
       "      <th></th>\n",
       "      <th></th>\n",
       "      <th></th>\n",
       "      <th></th>\n",
       "      <th></th>\n",
       "      <th></th>\n",
       "      <th></th>\n",
       "    </tr>\n",
       "  </thead>\n",
       "  <tbody>\n",
       "    <tr>\n",
       "      <th>0</th>\n",
       "      <td>2020-01-01 00:00:00.000000000</td>\n",
       "      <td>José</td>\n",
       "      <td>Produto C</td>\n",
       "      <td>4</td>\n",
       "      <td>32.18</td>\n",
       "      <td>128.72</td>\n",
       "      <td>112.392212</td>\n",
       "      <td>C</td>\n",
       "      <td>16.327788</td>\n",
       "      <td>NaN</td>\n",
       "    </tr>\n",
       "    <tr>\n",
       "      <th>1</th>\n",
       "      <td>2020-01-01 17:33:18.396793587</td>\n",
       "      <td>Paulo</td>\n",
       "      <td>Produto A</td>\n",
       "      <td>9</td>\n",
       "      <td>67.42</td>\n",
       "      <td>606.78</td>\n",
       "      <td>505.560688</td>\n",
       "      <td>B</td>\n",
       "      <td>101.219312</td>\n",
       "      <td>NaN</td>\n",
       "    </tr>\n",
       "    <tr>\n",
       "      <th>2</th>\n",
       "      <td>2020-01-02 11:06:36.793587174</td>\n",
       "      <td>José</td>\n",
       "      <td>Produto C</td>\n",
       "      <td>1</td>\n",
       "      <td>14.92</td>\n",
       "      <td>14.92</td>\n",
       "      <td>12.334824</td>\n",
       "      <td>A</td>\n",
       "      <td>2.585176</td>\n",
       "      <td>1.0</td>\n",
       "    </tr>\n",
       "    <tr>\n",
       "      <th>3</th>\n",
       "      <td>2020-01-03 04:39:55.190380761</td>\n",
       "      <td>Maria</td>\n",
       "      <td>Produto B</td>\n",
       "      <td>9</td>\n",
       "      <td>65.09</td>\n",
       "      <td>585.81</td>\n",
       "      <td>472.851216</td>\n",
       "      <td>C</td>\n",
       "      <td>112.958784</td>\n",
       "      <td>NaN</td>\n",
       "    </tr>\n",
       "    <tr>\n",
       "      <th>4</th>\n",
       "      <td>2020-01-03 22:13:13.587174348</td>\n",
       "      <td>Ana</td>\n",
       "      <td>Produto B</td>\n",
       "      <td>8</td>\n",
       "      <td>28.02</td>\n",
       "      <td>224.16</td>\n",
       "      <td>174.989413</td>\n",
       "      <td>B</td>\n",
       "      <td>49.170587</td>\n",
       "      <td>NaN</td>\n",
       "    </tr>\n",
       "  </tbody>\n",
       "</table>\n",
       "</div>"
      ],
      "text/plain": [
       "                            sale_date customer    product  quantity  \\\n",
       "sale_id                                                               \n",
       "0       2020-01-01 00:00:00.000000000     José  Produto C         4   \n",
       "1       2020-01-01 17:33:18.396793587    Paulo  Produto A         9   \n",
       "2       2020-01-02 11:06:36.793587174     José  Produto C         1   \n",
       "3       2020-01-03 04:39:55.190380761    Maria  Produto B         9   \n",
       "4       2020-01-03 22:13:13.587174348      Ana  Produto B         8   \n",
       "\n",
       "         unit_price  total_sale        cost product_group      profit  \\\n",
       "sale_id                                                                 \n",
       "0             32.18      128.72  112.392212             C   16.327788   \n",
       "1             67.42      606.78  505.560688             B  101.219312   \n",
       "2             14.92       14.92   12.334824             A    2.585176   \n",
       "3             65.09      585.81  472.851216             C  112.958784   \n",
       "4             28.02      224.16  174.989413             B   49.170587   \n",
       "\n",
       "         days_diff  \n",
       "sale_id             \n",
       "0              NaN  \n",
       "1              NaN  \n",
       "2              1.0  \n",
       "3              NaN  \n",
       "4              NaN  "
      ]
     },
     "execution_count": 180,
     "metadata": {},
     "output_type": "execute_result"
    }
   ],
   "source": [
    "sales_df.head()"
   ]
  },
  {
   "cell_type": "markdown",
   "metadata": {},
   "source": [
    "Pode-se agora agrupar o dataset por cliente, mostrando a diferença média de dias entre as compras de cada um deles."
   ]
  },
  {
   "cell_type": "code",
   "execution_count": 181,
   "metadata": {},
   "outputs": [
    {
     "data": {
      "text/html": [
       "<div>\n",
       "<style scoped>\n",
       "    .dataframe tbody tr th:only-of-type {\n",
       "        vertical-align: middle;\n",
       "    }\n",
       "\n",
       "    .dataframe tbody tr th {\n",
       "        vertical-align: top;\n",
       "    }\n",
       "\n",
       "    .dataframe thead th {\n",
       "        text-align: right;\n",
       "    }\n",
       "</style>\n",
       "<table border=\"1\" class=\"dataframe\">\n",
       "  <thead>\n",
       "    <tr style=\"text-align: right;\">\n",
       "      <th></th>\n",
       "      <th>customer</th>\n",
       "      <th>days_diff</th>\n",
       "    </tr>\n",
       "  </thead>\n",
       "  <tbody>\n",
       "    <tr>\n",
       "      <th>0</th>\n",
       "      <td>Maria</td>\n",
       "      <td>2.95</td>\n",
       "    </tr>\n",
       "    <tr>\n",
       "      <th>1</th>\n",
       "      <td>Ana</td>\n",
       "      <td>3.10</td>\n",
       "    </tr>\n",
       "    <tr>\n",
       "      <th>2</th>\n",
       "      <td>João</td>\n",
       "      <td>3.43</td>\n",
       "    </tr>\n",
       "    <tr>\n",
       "      <th>3</th>\n",
       "      <td>José</td>\n",
       "      <td>3.48</td>\n",
       "    </tr>\n",
       "    <tr>\n",
       "      <th>4</th>\n",
       "      <td>Paulo</td>\n",
       "      <td>3.50</td>\n",
       "    </tr>\n",
       "  </tbody>\n",
       "</table>\n",
       "</div>"
      ],
      "text/plain": [
       "  customer  days_diff\n",
       "0    Maria       2.95\n",
       "1      Ana       3.10\n",
       "2     João       3.43\n",
       "3     José       3.48\n",
       "4    Paulo       3.50"
      ]
     },
     "execution_count": 181,
     "metadata": {},
     "output_type": "execute_result"
    }
   ],
   "source": [
    "days_diff_group = round(sales_df.groupby(by = 'customer')['days_diff'].agg('mean').sort_values().reset_index(),2)\n",
    "days_diff_group"
   ]
  },
  {
   "cell_type": "markdown",
   "metadata": {},
   "source": [
    "Portanto, a cliente que compra com mais frequência é a Maria, com um diferença média de dias entre as compras de 2,95 dias. Já o cliente menos frequente é o Paulo, com uma diferença média entre as compras de 3,50 dias. Plotando estes resultados,"
   ]
  },
  {
   "cell_type": "code",
   "execution_count": 182,
   "metadata": {},
   "outputs": [
    {
     "data": {
      "image/png": "[encoded data removed]",
      "text/plain": [
       "<Figure size 1000x600 with 1 Axes>"
      ]
     },
     "metadata": {},
     "output_type": "display_data"
    }
   ],
   "source": [
    "plt.figure(figsize = (10,6))\n",
    "sns.barplot(\n",
    "    data = days_diff_group,\n",
    "    x = 'customer',\n",
    "    y = 'days_diff',\n",
    "    errorbar = None\n",
    ")\n",
    "plt.xlabel('Clientes')\n",
    "plt.ylabel('Diferença média de dias entre compras')\n",
    "plt.title('Diferença média de dias entre compras por cliente')\n",
    "plt.show()"
   ]
  },
  {
   "cell_type": "markdown",
   "metadata": {},
   "source": [
    "Podemos ainda expandir esta análise, criando uma tabela de cliente com agrupamentos novos, contendo a frequência de compra, o lucro total que cada um rendeu para a plataforma, a quantidade de produtos comprados por cada um e o ticket médio."
   ]
  },
  {
   "cell_type": "code",
   "execution_count": 184,
   "metadata": {},
   "outputs": [
    {
     "data": {
      "text/html": [
       "<div>\n",
       "<style scoped>\n",
       "    .dataframe tbody tr th:only-of-type {\n",
       "        vertical-align: middle;\n",
       "    }\n",
       "\n",
       "    .dataframe tbody tr th {\n",
       "        vertical-align: top;\n",
       "    }\n",
       "\n",
       "    .dataframe thead th {\n",
       "        text-align: right;\n",
       "    }\n",
       "</style>\n",
       "<table border=\"1\" class=\"dataframe\">\n",
       "  <thead>\n",
       "    <tr style=\"text-align: right;\">\n",
       "      <th></th>\n",
       "      <th>frequencia_compra</th>\n",
       "      <th>lucro_total</th>\n",
       "      <th>quantidade_produtos_comprados</th>\n",
       "      <th>ticket_medio</th>\n",
       "    </tr>\n",
       "    <tr>\n",
       "      <th>customer</th>\n",
       "      <th></th>\n",
       "      <th></th>\n",
       "      <th></th>\n",
       "      <th></th>\n",
       "    </tr>\n",
       "  </thead>\n",
       "  <tbody>\n",
       "    <tr>\n",
       "      <th>Ana</th>\n",
       "      <td>3.101010</td>\n",
       "      <td>4946.88</td>\n",
       "      <td>485</td>\n",
       "      <td>252.35</td>\n",
       "    </tr>\n",
       "    <tr>\n",
       "      <th>José</th>\n",
       "      <td>3.477778</td>\n",
       "      <td>4122.09</td>\n",
       "      <td>430</td>\n",
       "      <td>222.83</td>\n",
       "    </tr>\n",
       "    <tr>\n",
       "      <th>João</th>\n",
       "      <td>3.431818</td>\n",
       "      <td>4056.27</td>\n",
       "      <td>450</td>\n",
       "      <td>237.05</td>\n",
       "    </tr>\n",
       "    <tr>\n",
       "      <th>Maria</th>\n",
       "      <td>2.951923</td>\n",
       "      <td>6101.61</td>\n",
       "      <td>567</td>\n",
       "      <td>282.94</td>\n",
       "    </tr>\n",
       "    <tr>\n",
       "      <th>Paulo</th>\n",
       "      <td>3.500000</td>\n",
       "      <td>4024.78</td>\n",
       "      <td>427</td>\n",
       "      <td>222.45</td>\n",
       "    </tr>\n",
       "  </tbody>\n",
       "</table>\n",
       "</div>"
      ],
      "text/plain": [
       "          frequencia_compra  lucro_total  quantidade_produtos_comprados  \\\n",
       "customer                                                                  \n",
       "Ana                3.101010      4946.88                            485   \n",
       "José               3.477778      4122.09                            430   \n",
       "João               3.431818      4056.27                            450   \n",
       "Maria              2.951923      6101.61                            567   \n",
       "Paulo              3.500000      4024.78                            427   \n",
       "\n",
       "          ticket_medio  \n",
       "customer                \n",
       "Ana             252.35  \n",
       "José            222.83  \n",
       "João            237.05  \n",
       "Maria           282.94  \n",
       "Paulo           222.45  "
      ]
     },
     "execution_count": 184,
     "metadata": {},
     "output_type": "execute_result"
    }
   ],
   "source": [
    "customer_dataset = sales_df.pivot_table(\n",
    "                    index = 'customer',\n",
    "                    values = ['days_diff', 'profit', 'quantity', 'total_sale'],\n",
    "                    aggfunc = {\n",
    "                        'days_diff': 'mean',\n",
    "                        'profit': 'sum',\n",
    "                        'quantity': 'sum',\n",
    "                        'total_sale': 'mean'\n",
    "                    }\n",
    "                ).rename(\n",
    "                    columns = {\n",
    "                        'days_diff': 'frequencia_compra',\n",
    "                        'profit': 'lucro_total',\n",
    "                        'quantity': 'quantidade_produtos_comprados',\n",
    "                        'total_sale': 'ticket_medio'\n",
    "                    }\n",
    "                )\n",
    "\n",
    "# arredondando os valores de lucro total e ticket médio para duas casas decimais\n",
    "customer_dataset['lucro_total'] = round(customer_dataset['lucro_total'], 2)\n",
    "customer_dataset['ticket_medio'] = round(customer_dataset['ticket_medio'], 2)\n",
    "\n",
    "# exibindo o dataset\n",
    "customer_dataset"
   ]
  },
  {
   "cell_type": "markdown",
   "metadata": {},
   "source": [
    "Criado o dataset, temos a possibilidade de exibir as informações na ordem em que for necessário."
   ]
  },
  {
   "cell_type": "markdown",
   "metadata": {},
   "source": [
    "Por exemplo, ordenou-se o dataset pela frequência de compras, da menor para a maior,"
   ]
  },
  {
   "cell_type": "code",
   "execution_count": 185,
   "metadata": {},
   "outputs": [
    {
     "data": {
      "text/html": [
       "<div>\n",
       "<style scoped>\n",
       "    .dataframe tbody tr th:only-of-type {\n",
       "        vertical-align: middle;\n",
       "    }\n",
       "\n",
       "    .dataframe tbody tr th {\n",
       "        vertical-align: top;\n",
       "    }\n",
       "\n",
       "    .dataframe thead th {\n",
       "        text-align: right;\n",
       "    }\n",
       "</style>\n",
       "<table border=\"1\" class=\"dataframe\">\n",
       "  <thead>\n",
       "    <tr style=\"text-align: right;\">\n",
       "      <th></th>\n",
       "      <th>frequencia_compra</th>\n",
       "      <th>lucro_total</th>\n",
       "      <th>quantidade_produtos_comprados</th>\n",
       "      <th>ticket_medio</th>\n",
       "    </tr>\n",
       "    <tr>\n",
       "      <th>customer</th>\n",
       "      <th></th>\n",
       "      <th></th>\n",
       "      <th></th>\n",
       "      <th></th>\n",
       "    </tr>\n",
       "  </thead>\n",
       "  <tbody>\n",
       "    <tr>\n",
       "      <th>Maria</th>\n",
       "      <td>2.951923</td>\n",
       "      <td>6101.61</td>\n",
       "      <td>567</td>\n",
       "      <td>282.94</td>\n",
       "    </tr>\n",
       "    <tr>\n",
       "      <th>Ana</th>\n",
       "      <td>3.101010</td>\n",
       "      <td>4946.88</td>\n",
       "      <td>485</td>\n",
       "      <td>252.35</td>\n",
       "    </tr>\n",
       "    <tr>\n",
       "      <th>João</th>\n",
       "      <td>3.431818</td>\n",
       "      <td>4056.27</td>\n",
       "      <td>450</td>\n",
       "      <td>237.05</td>\n",
       "    </tr>\n",
       "    <tr>\n",
       "      <th>José</th>\n",
       "      <td>3.477778</td>\n",
       "      <td>4122.09</td>\n",
       "      <td>430</td>\n",
       "      <td>222.83</td>\n",
       "    </tr>\n",
       "    <tr>\n",
       "      <th>Paulo</th>\n",
       "      <td>3.500000</td>\n",
       "      <td>4024.78</td>\n",
       "      <td>427</td>\n",
       "      <td>222.45</td>\n",
       "    </tr>\n",
       "  </tbody>\n",
       "</table>\n",
       "</div>"
      ],
      "text/plain": [
       "          frequencia_compra  lucro_total  quantidade_produtos_comprados  \\\n",
       "customer                                                                  \n",
       "Maria              2.951923      6101.61                            567   \n",
       "Ana                3.101010      4946.88                            485   \n",
       "João               3.431818      4056.27                            450   \n",
       "José               3.477778      4122.09                            430   \n",
       "Paulo              3.500000      4024.78                            427   \n",
       "\n",
       "          ticket_medio  \n",
       "customer                \n",
       "Maria           282.94  \n",
       "Ana             252.35  \n",
       "João            237.05  \n",
       "José            222.83  \n",
       "Paulo           222.45  "
      ]
     },
     "execution_count": 185,
     "metadata": {},
     "output_type": "execute_result"
    }
   ],
   "source": [
    "customer_dataset.sort_values(by = 'frequencia_compra')"
   ]
  },
  {
   "cell_type": "markdown",
   "metadata": {},
   "source": [
    "Ordenando agora pelo lucro total, do maior para o menor,"
   ]
  },
  {
   "cell_type": "code",
   "execution_count": 187,
   "metadata": {},
   "outputs": [
    {
     "data": {
      "text/html": [
       "<div>\n",
       "<style scoped>\n",
       "    .dataframe tbody tr th:only-of-type {\n",
       "        vertical-align: middle;\n",
       "    }\n",
       "\n",
       "    .dataframe tbody tr th {\n",
       "        vertical-align: top;\n",
       "    }\n",
       "\n",
       "    .dataframe thead th {\n",
       "        text-align: right;\n",
       "    }\n",
       "</style>\n",
       "<table border=\"1\" class=\"dataframe\">\n",
       "  <thead>\n",
       "    <tr style=\"text-align: right;\">\n",
       "      <th></th>\n",
       "      <th>frequencia_compra</th>\n",
       "      <th>lucro_total</th>\n",
       "      <th>quantidade_produtos_comprados</th>\n",
       "      <th>ticket_medio</th>\n",
       "    </tr>\n",
       "    <tr>\n",
       "      <th>customer</th>\n",
       "      <th></th>\n",
       "      <th></th>\n",
       "      <th></th>\n",
       "      <th></th>\n",
       "    </tr>\n",
       "  </thead>\n",
       "  <tbody>\n",
       "    <tr>\n",
       "      <th>Maria</th>\n",
       "      <td>2.951923</td>\n",
       "      <td>6101.61</td>\n",
       "      <td>567</td>\n",
       "      <td>282.94</td>\n",
       "    </tr>\n",
       "    <tr>\n",
       "      <th>Ana</th>\n",
       "      <td>3.101010</td>\n",
       "      <td>4946.88</td>\n",
       "      <td>485</td>\n",
       "      <td>252.35</td>\n",
       "    </tr>\n",
       "    <tr>\n",
       "      <th>José</th>\n",
       "      <td>3.477778</td>\n",
       "      <td>4122.09</td>\n",
       "      <td>430</td>\n",
       "      <td>222.83</td>\n",
       "    </tr>\n",
       "    <tr>\n",
       "      <th>João</th>\n",
       "      <td>3.431818</td>\n",
       "      <td>4056.27</td>\n",
       "      <td>450</td>\n",
       "      <td>237.05</td>\n",
       "    </tr>\n",
       "    <tr>\n",
       "      <th>Paulo</th>\n",
       "      <td>3.500000</td>\n",
       "      <td>4024.78</td>\n",
       "      <td>427</td>\n",
       "      <td>222.45</td>\n",
       "    </tr>\n",
       "  </tbody>\n",
       "</table>\n",
       "</div>"
      ],
      "text/plain": [
       "          frequencia_compra  lucro_total  quantidade_produtos_comprados  \\\n",
       "customer                                                                  \n",
       "Maria              2.951923      6101.61                            567   \n",
       "Ana                3.101010      4946.88                            485   \n",
       "José               3.477778      4122.09                            430   \n",
       "João               3.431818      4056.27                            450   \n",
       "Paulo              3.500000      4024.78                            427   \n",
       "\n",
       "          ticket_medio  \n",
       "customer                \n",
       "Maria           282.94  \n",
       "Ana             252.35  \n",
       "José            222.83  \n",
       "João            237.05  \n",
       "Paulo           222.45  "
      ]
     },
     "execution_count": 187,
     "metadata": {},
     "output_type": "execute_result"
    }
   ],
   "source": [
    "customer_dataset.sort_values(by = 'lucro_total', ascending = False)"
   ]
  },
  {
   "cell_type": "markdown",
   "metadata": {},
   "source": [
    "Ordenando pela quantidade de produtos comprados, do maior para o menor,"
   ]
  },
  {
   "cell_type": "code",
   "execution_count": 188,
   "metadata": {},
   "outputs": [
    {
     "data": {
      "text/html": [
       "<div>\n",
       "<style scoped>\n",
       "    .dataframe tbody tr th:only-of-type {\n",
       "        vertical-align: middle;\n",
       "    }\n",
       "\n",
       "    .dataframe tbody tr th {\n",
       "        vertical-align: top;\n",
       "    }\n",
       "\n",
       "    .dataframe thead th {\n",
       "        text-align: right;\n",
       "    }\n",
       "</style>\n",
       "<table border=\"1\" class=\"dataframe\">\n",
       "  <thead>\n",
       "    <tr style=\"text-align: right;\">\n",
       "      <th></th>\n",
       "      <th>frequencia_compra</th>\n",
       "      <th>lucro_total</th>\n",
       "      <th>quantidade_produtos_comprados</th>\n",
       "      <th>ticket_medio</th>\n",
       "    </tr>\n",
       "    <tr>\n",
       "      <th>customer</th>\n",
       "      <th></th>\n",
       "      <th></th>\n",
       "      <th></th>\n",
       "      <th></th>\n",
       "    </tr>\n",
       "  </thead>\n",
       "  <tbody>\n",
       "    <tr>\n",
       "      <th>Maria</th>\n",
       "      <td>2.951923</td>\n",
       "      <td>6101.61</td>\n",
       "      <td>567</td>\n",
       "      <td>282.94</td>\n",
       "    </tr>\n",
       "    <tr>\n",
       "      <th>Ana</th>\n",
       "      <td>3.101010</td>\n",
       "      <td>4946.88</td>\n",
       "      <td>485</td>\n",
       "      <td>252.35</td>\n",
       "    </tr>\n",
       "    <tr>\n",
       "      <th>João</th>\n",
       "      <td>3.431818</td>\n",
       "      <td>4056.27</td>\n",
       "      <td>450</td>\n",
       "      <td>237.05</td>\n",
       "    </tr>\n",
       "    <tr>\n",
       "      <th>José</th>\n",
       "      <td>3.477778</td>\n",
       "      <td>4122.09</td>\n",
       "      <td>430</td>\n",
       "      <td>222.83</td>\n",
       "    </tr>\n",
       "    <tr>\n",
       "      <th>Paulo</th>\n",
       "      <td>3.500000</td>\n",
       "      <td>4024.78</td>\n",
       "      <td>427</td>\n",
       "      <td>222.45</td>\n",
       "    </tr>\n",
       "  </tbody>\n",
       "</table>\n",
       "</div>"
      ],
      "text/plain": [
       "          frequencia_compra  lucro_total  quantidade_produtos_comprados  \\\n",
       "customer                                                                  \n",
       "Maria              2.951923      6101.61                            567   \n",
       "Ana                3.101010      4946.88                            485   \n",
       "João               3.431818      4056.27                            450   \n",
       "José               3.477778      4122.09                            430   \n",
       "Paulo              3.500000      4024.78                            427   \n",
       "\n",
       "          ticket_medio  \n",
       "customer                \n",
       "Maria           282.94  \n",
       "Ana             252.35  \n",
       "João            237.05  \n",
       "José            222.83  \n",
       "Paulo           222.45  "
      ]
     },
     "execution_count": 188,
     "metadata": {},
     "output_type": "execute_result"
    }
   ],
   "source": [
    "customer_dataset.sort_values(by = 'quantidade_produtos_comprados', ascending = False)"
   ]
  },
  {
   "cell_type": "markdown",
   "metadata": {},
   "source": [
    "E por último, pelo ticket médio,"
   ]
  },
  {
   "cell_type": "code",
   "execution_count": 189,
   "metadata": {},
   "outputs": [
    {
     "data": {
      "text/html": [
       "<div>\n",
       "<style scoped>\n",
       "    .dataframe tbody tr th:only-of-type {\n",
       "        vertical-align: middle;\n",
       "    }\n",
       "\n",
       "    .dataframe tbody tr th {\n",
       "        vertical-align: top;\n",
       "    }\n",
       "\n",
       "    .dataframe thead th {\n",
       "        text-align: right;\n",
       "    }\n",
       "</style>\n",
       "<table border=\"1\" class=\"dataframe\">\n",
       "  <thead>\n",
       "    <tr style=\"text-align: right;\">\n",
       "      <th></th>\n",
       "      <th>frequencia_compra</th>\n",
       "      <th>lucro_total</th>\n",
       "      <th>quantidade_produtos_comprados</th>\n",
       "      <th>ticket_medio</th>\n",
       "    </tr>\n",
       "    <tr>\n",
       "      <th>customer</th>\n",
       "      <th></th>\n",
       "      <th></th>\n",
       "      <th></th>\n",
       "      <th></th>\n",
       "    </tr>\n",
       "  </thead>\n",
       "  <tbody>\n",
       "    <tr>\n",
       "      <th>Maria</th>\n",
       "      <td>2.951923</td>\n",
       "      <td>6101.61</td>\n",
       "      <td>567</td>\n",
       "      <td>282.94</td>\n",
       "    </tr>\n",
       "    <tr>\n",
       "      <th>Ana</th>\n",
       "      <td>3.101010</td>\n",
       "      <td>4946.88</td>\n",
       "      <td>485</td>\n",
       "      <td>252.35</td>\n",
       "    </tr>\n",
       "    <tr>\n",
       "      <th>João</th>\n",
       "      <td>3.431818</td>\n",
       "      <td>4056.27</td>\n",
       "      <td>450</td>\n",
       "      <td>237.05</td>\n",
       "    </tr>\n",
       "    <tr>\n",
       "      <th>José</th>\n",
       "      <td>3.477778</td>\n",
       "      <td>4122.09</td>\n",
       "      <td>430</td>\n",
       "      <td>222.83</td>\n",
       "    </tr>\n",
       "    <tr>\n",
       "      <th>Paulo</th>\n",
       "      <td>3.500000</td>\n",
       "      <td>4024.78</td>\n",
       "      <td>427</td>\n",
       "      <td>222.45</td>\n",
       "    </tr>\n",
       "  </tbody>\n",
       "</table>\n",
       "</div>"
      ],
      "text/plain": [
       "          frequencia_compra  lucro_total  quantidade_produtos_comprados  \\\n",
       "customer                                                                  \n",
       "Maria              2.951923      6101.61                            567   \n",
       "Ana                3.101010      4946.88                            485   \n",
       "João               3.431818      4056.27                            450   \n",
       "José               3.477778      4122.09                            430   \n",
       "Paulo              3.500000      4024.78                            427   \n",
       "\n",
       "          ticket_medio  \n",
       "customer                \n",
       "Maria           282.94  \n",
       "Ana             252.35  \n",
       "João            237.05  \n",
       "José            222.83  \n",
       "Paulo           222.45  "
      ]
     },
     "execution_count": 189,
     "metadata": {},
     "output_type": "execute_result"
    }
   ],
   "source": [
    "customer_dataset.sort_values(by = 'ticket_medio', ascending = False)"
   ]
  }
 ],
 "metadata": {
  "kernelspec": {
   "display_name": "Python 3",
   "language": "python",
   "name": "python3"
  },
  "language_info": {
   "codemirror_mode": {
    "name": "ipython",
    "version": 3
   },
   "file_extension": ".py",
   "mimetype": "text/x-python",
   "name": "python",
   "nbconvert_exporter": "python",
   "pygments_lexer": "ipython3",
   "version": "3.11.2"
  }
 },
 "nbformat": 4,
 "nbformat_minor": 2
}
