{
 "cells": [
  {
   "cell_type": "markdown",
   "metadata": {},
   "source": [
    "# Extraindo dados de um arquivo pdf para análise de vendas"
   ]
  },
  {
   "cell_type": "markdown",
   "metadata": {},
   "source": [
    "# Introdução\n",
    "\n",
    "Uma plataforma de e-commerce de moda necessita extrair dados de um arquivo pdf para investigar as métricas-chave relacionadas aos produtos da empresa."
   ]
  },
  {
   "cell_type": "markdown",
   "metadata": {},
   "source": [
    "## Objetivo do projeto\n",
    "\n",
    "Desenvolver as seguintes métricas:\n",
    "\n",
    "* Lucro por produto;\n",
    "* Produto mais lucrativo;\n",
    "* Produtos mais e menos vendidos;\n",
    "* 5 primeiros clientes que mais compram;\n",
    "* Frequência de compra por cliente."
   ]
  },
  {
   "cell_type": "markdown",
   "metadata": {},
   "source": [
    "## Importando os dados do arquivo pdf"
   ]
  },
  {
   "cell_type": "markdown",
   "metadata": {},
   "source": [
    "Para realizar a importação do dataset que se encontra em um arquivo pdf, é necessário a instalação da biblioteca Tabula. Feito isso, importa-se tal biblioteca para leitura do arquivo."
   ]
  },
  {
   "cell_type": "code",
   "execution_count": 1,
   "metadata": {},
   "outputs": [],
   "source": [
    "import tabula\n",
    "\n",
    "path = 'sales_data - dataset.pdf'\n",
    "sales = tabula.read_pdf(input_path = path, stream = True, pages = 1, multiple_tables = False)"
   ]
  },
  {
   "cell_type": "markdown",
   "metadata": {},
   "source": [
    "Visualizando os dados importados,"
   ]
  },
  {
   "cell_type": "code",
   "execution_count": 7,
   "metadata": {},
   "outputs": [
    {
     "data": {
      "text/plain": [
       "[     sale_id                      sale_date customer    product  quantity  \\\n",
       " 0          0            2020-01-01 00:00:00     José  Produto C         4   \n",
       " 1          1  2020-01-01 17:33:18.396793587    Paulo  Produto A         9   \n",
       " 2          2  2020-01-02 11:06:36.793587174     José  Produto C         1   \n",
       " 3          3  2020-01-03 04:39:55.190380761    Maria  Produto B         9   \n",
       " 4          4  2020-01-03 22:13:13.587174348      Ana  Produto B         8   \n",
       " ..       ...                            ...      ...        ...       ...   \n",
       " 495      495  2020-12-28 01:46:46.412825652    Paulo  Produto C         5   \n",
       " 496      496  2020-12-28 19:20:04.809619236     José  Produto A         5   \n",
       " 497      497  2020-12-29 12:53:23.206412824    Maria  Produto C         3   \n",
       " 498      498  2020-12-30 06:26:41.603206412    Maria  Produto B         2   \n",
       " 499      499            2020-12-31 00:00:00    Paulo  Produto B         9   \n",
       " \n",
       "      unit_price  total_sale  month  year        cost product_group  \n",
       " 0         32.18      128.72      1  2020  112.392212             C  \n",
       " 1         67.42      606.78      1  2020  505.560688             B  \n",
       " 2         14.92       14.92      1  2020   12.334824             A  \n",
       " 3         65.09      585.81      1  2020  472.851216             C  \n",
       " 4         28.02      224.16      1  2020  174.989413             B  \n",
       " ..          ...         ...    ...   ...         ...           ...  \n",
       " 495       76.71      383.55     12  2020  300.355944             A  \n",
       " 496       53.42      267.10     12  2020  192.526496             A  \n",
       " 497       64.18      192.54     12  2020  161.742229             B  \n",
       " 498       86.15      172.30     12  2020  145.558499             B  \n",
       " 499        5.96       53.64     12  2020   43.178814             C  \n",
       " \n",
       " [500 rows x 11 columns]]"
      ]
     },
     "execution_count": 7,
     "metadata": {},
     "output_type": "execute_result"
    }
   ],
   "source": [
    "sales"
   ]
  },
  {
   "cell_type": "markdown",
   "metadata": {},
   "source": [
    "Verificando-se o tipo de objeto importado,"
   ]
  },
  {
   "cell_type": "code",
   "execution_count": 9,
   "metadata": {},
   "outputs": [
    {
     "data": {
      "text/plain": [
       "list"
      ]
     },
     "execution_count": 9,
     "metadata": {},
     "output_type": "execute_result"
    }
   ],
   "source": [
    "type(sales)"
   ]
  },
  {
   "cell_type": "markdown",
   "metadata": {},
   "source": [
    "Percebe-se que tem-se um objeto do tipo lista. Para acessar somente a tabela com os dados de interesse, informamos a posição dela na lista, conforme abaixo descrito."
   ]
  },
  {
   "cell_type": "code",
   "execution_count": 11,
   "metadata": {},
   "outputs": [
    {
     "data": {
      "text/html": [
       "<div>\n",
       "<style scoped>\n",
       "    .dataframe tbody tr th:only-of-type {\n",
       "        vertical-align: middle;\n",
       "    }\n",
       "\n",
       "    .dataframe tbody tr th {\n",
       "        vertical-align: top;\n",
       "    }\n",
       "\n",
       "    .dataframe thead th {\n",
       "        text-align: right;\n",
       "    }\n",
       "</style>\n",
       "<table border=\"1\" class=\"dataframe\">\n",
       "  <thead>\n",
       "    <tr style=\"text-align: right;\">\n",
       "      <th></th>\n",
       "      <th>sale_id</th>\n",
       "      <th>sale_date</th>\n",
       "      <th>customer</th>\n",
       "      <th>product</th>\n",
       "      <th>quantity</th>\n",
       "      <th>unit_price</th>\n",
       "      <th>total_sale</th>\n",
       "      <th>month</th>\n",
       "      <th>year</th>\n",
       "      <th>cost</th>\n",
       "      <th>product_group</th>\n",
       "    </tr>\n",
       "  </thead>\n",
       "  <tbody>\n",
       "    <tr>\n",
       "      <th>0</th>\n",
       "      <td>0</td>\n",
       "      <td>2020-01-01 00:00:00</td>\n",
       "      <td>José</td>\n",
       "      <td>Produto C</td>\n",
       "      <td>4</td>\n",
       "      <td>32.18</td>\n",
       "      <td>128.72</td>\n",
       "      <td>1</td>\n",
       "      <td>2020</td>\n",
       "      <td>112.392212</td>\n",
       "      <td>C</td>\n",
       "    </tr>\n",
       "    <tr>\n",
       "      <th>1</th>\n",
       "      <td>1</td>\n",
       "      <td>2020-01-01 17:33:18.396793587</td>\n",
       "      <td>Paulo</td>\n",
       "      <td>Produto A</td>\n",
       "      <td>9</td>\n",
       "      <td>67.42</td>\n",
       "      <td>606.78</td>\n",
       "      <td>1</td>\n",
       "      <td>2020</td>\n",
       "      <td>505.560688</td>\n",
       "      <td>B</td>\n",
       "    </tr>\n",
       "    <tr>\n",
       "      <th>2</th>\n",
       "      <td>2</td>\n",
       "      <td>2020-01-02 11:06:36.793587174</td>\n",
       "      <td>José</td>\n",
       "      <td>Produto C</td>\n",
       "      <td>1</td>\n",
       "      <td>14.92</td>\n",
       "      <td>14.92</td>\n",
       "      <td>1</td>\n",
       "      <td>2020</td>\n",
       "      <td>12.334824</td>\n",
       "      <td>A</td>\n",
       "    </tr>\n",
       "    <tr>\n",
       "      <th>3</th>\n",
       "      <td>3</td>\n",
       "      <td>2020-01-03 04:39:55.190380761</td>\n",
       "      <td>Maria</td>\n",
       "      <td>Produto B</td>\n",
       "      <td>9</td>\n",
       "      <td>65.09</td>\n",
       "      <td>585.81</td>\n",
       "      <td>1</td>\n",
       "      <td>2020</td>\n",
       "      <td>472.851216</td>\n",
       "      <td>C</td>\n",
       "    </tr>\n",
       "    <tr>\n",
       "      <th>4</th>\n",
       "      <td>4</td>\n",
       "      <td>2020-01-03 22:13:13.587174348</td>\n",
       "      <td>Ana</td>\n",
       "      <td>Produto B</td>\n",
       "      <td>8</td>\n",
       "      <td>28.02</td>\n",
       "      <td>224.16</td>\n",
       "      <td>1</td>\n",
       "      <td>2020</td>\n",
       "      <td>174.989413</td>\n",
       "      <td>B</td>\n",
       "    </tr>\n",
       "    <tr>\n",
       "      <th>...</th>\n",
       "      <td>...</td>\n",
       "      <td>...</td>\n",
       "      <td>...</td>\n",
       "      <td>...</td>\n",
       "      <td>...</td>\n",
       "      <td>...</td>\n",
       "      <td>...</td>\n",
       "      <td>...</td>\n",
       "      <td>...</td>\n",
       "      <td>...</td>\n",
       "      <td>...</td>\n",
       "    </tr>\n",
       "    <tr>\n",
       "      <th>495</th>\n",
       "      <td>495</td>\n",
       "      <td>2020-12-28 01:46:46.412825652</td>\n",
       "      <td>Paulo</td>\n",
       "      <td>Produto C</td>\n",
       "      <td>5</td>\n",
       "      <td>76.71</td>\n",
       "      <td>383.55</td>\n",
       "      <td>12</td>\n",
       "      <td>2020</td>\n",
       "      <td>300.355944</td>\n",
       "      <td>A</td>\n",
       "    </tr>\n",
       "    <tr>\n",
       "      <th>496</th>\n",
       "      <td>496</td>\n",
       "      <td>2020-12-28 19:20:04.809619236</td>\n",
       "      <td>José</td>\n",
       "      <td>Produto A</td>\n",
       "      <td>5</td>\n",
       "      <td>53.42</td>\n",
       "      <td>267.10</td>\n",
       "      <td>12</td>\n",
       "      <td>2020</td>\n",
       "      <td>192.526496</td>\n",
       "      <td>A</td>\n",
       "    </tr>\n",
       "    <tr>\n",
       "      <th>497</th>\n",
       "      <td>497</td>\n",
       "      <td>2020-12-29 12:53:23.206412824</td>\n",
       "      <td>Maria</td>\n",
       "      <td>Produto C</td>\n",
       "      <td>3</td>\n",
       "      <td>64.18</td>\n",
       "      <td>192.54</td>\n",
       "      <td>12</td>\n",
       "      <td>2020</td>\n",
       "      <td>161.742229</td>\n",
       "      <td>B</td>\n",
       "    </tr>\n",
       "    <tr>\n",
       "      <th>498</th>\n",
       "      <td>498</td>\n",
       "      <td>2020-12-30 06:26:41.603206412</td>\n",
       "      <td>Maria</td>\n",
       "      <td>Produto B</td>\n",
       "      <td>2</td>\n",
       "      <td>86.15</td>\n",
       "      <td>172.30</td>\n",
       "      <td>12</td>\n",
       "      <td>2020</td>\n",
       "      <td>145.558499</td>\n",
       "      <td>B</td>\n",
       "    </tr>\n",
       "    <tr>\n",
       "      <th>499</th>\n",
       "      <td>499</td>\n",
       "      <td>2020-12-31 00:00:00</td>\n",
       "      <td>Paulo</td>\n",
       "      <td>Produto B</td>\n",
       "      <td>9</td>\n",
       "      <td>5.96</td>\n",
       "      <td>53.64</td>\n",
       "      <td>12</td>\n",
       "      <td>2020</td>\n",
       "      <td>43.178814</td>\n",
       "      <td>C</td>\n",
       "    </tr>\n",
       "  </tbody>\n",
       "</table>\n",
       "<p>500 rows × 11 columns</p>\n",
       "</div>"
      ],
      "text/plain": [
       "     sale_id                      sale_date customer    product  quantity  \\\n",
       "0          0            2020-01-01 00:00:00     José  Produto C         4   \n",
       "1          1  2020-01-01 17:33:18.396793587    Paulo  Produto A         9   \n",
       "2          2  2020-01-02 11:06:36.793587174     José  Produto C         1   \n",
       "3          3  2020-01-03 04:39:55.190380761    Maria  Produto B         9   \n",
       "4          4  2020-01-03 22:13:13.587174348      Ana  Produto B         8   \n",
       "..       ...                            ...      ...        ...       ...   \n",
       "495      495  2020-12-28 01:46:46.412825652    Paulo  Produto C         5   \n",
       "496      496  2020-12-28 19:20:04.809619236     José  Produto A         5   \n",
       "497      497  2020-12-29 12:53:23.206412824    Maria  Produto C         3   \n",
       "498      498  2020-12-30 06:26:41.603206412    Maria  Produto B         2   \n",
       "499      499            2020-12-31 00:00:00    Paulo  Produto B         9   \n",
       "\n",
       "     unit_price  total_sale  month  year        cost product_group  \n",
       "0         32.18      128.72      1  2020  112.392212             C  \n",
       "1         67.42      606.78      1  2020  505.560688             B  \n",
       "2         14.92       14.92      1  2020   12.334824             A  \n",
       "3         65.09      585.81      1  2020  472.851216             C  \n",
       "4         28.02      224.16      1  2020  174.989413             B  \n",
       "..          ...         ...    ...   ...         ...           ...  \n",
       "495       76.71      383.55     12  2020  300.355944             A  \n",
       "496       53.42      267.10     12  2020  192.526496             A  \n",
       "497       64.18      192.54     12  2020  161.742229             B  \n",
       "498       86.15      172.30     12  2020  145.558499             B  \n",
       "499        5.96       53.64     12  2020   43.178814             C  \n",
       "\n",
       "[500 rows x 11 columns]"
      ]
     },
     "execution_count": 11,
     "metadata": {},
     "output_type": "execute_result"
    }
   ],
   "source": [
    "sales[0]"
   ]
  },
  {
   "cell_type": "markdown",
   "metadata": {},
   "source": [
    "## Criando o Data Frame"
   ]
  },
  {
   "cell_type": "markdown",
   "metadata": {},
   "source": [
    "Agora, criou-se um Data Frame a partir da tabela de dados importada do arquivo pdf. Isto é necessário para serem feitas as métricas e posteriores plotagem dos resultados. Para isso, utilizou-se da biblioteca Pandas, conforme segue."
   ]
  },
  {
   "cell_type": "code",
   "execution_count": 5,
   "metadata": {},
   "outputs": [
    {
     "data": {
      "text/html": [
       "<div>\n",
       "<style scoped>\n",
       "    .dataframe tbody tr th:only-of-type {\n",
       "        vertical-align: middle;\n",
       "    }\n",
       "\n",
       "    .dataframe tbody tr th {\n",
       "        vertical-align: top;\n",
       "    }\n",
       "\n",
       "    .dataframe thead th {\n",
       "        text-align: right;\n",
       "    }\n",
       "</style>\n",
       "<table border=\"1\" class=\"dataframe\">\n",
       "  <thead>\n",
       "    <tr style=\"text-align: right;\">\n",
       "      <th></th>\n",
       "      <th>sale_id</th>\n",
       "      <th>sale_date</th>\n",
       "      <th>customer</th>\n",
       "      <th>product</th>\n",
       "      <th>quantity</th>\n",
       "      <th>unit_price</th>\n",
       "      <th>total_sale</th>\n",
       "      <th>month</th>\n",
       "      <th>year</th>\n",
       "      <th>cost</th>\n",
       "      <th>product_group</th>\n",
       "    </tr>\n",
       "  </thead>\n",
       "  <tbody>\n",
       "    <tr>\n",
       "      <th>0</th>\n",
       "      <td>0</td>\n",
       "      <td>2020-01-01 00:00:00</td>\n",
       "      <td>José</td>\n",
       "      <td>Produto C</td>\n",
       "      <td>4</td>\n",
       "      <td>32.18</td>\n",
       "      <td>128.72</td>\n",
       "      <td>1</td>\n",
       "      <td>2020</td>\n",
       "      <td>112.392212</td>\n",
       "      <td>C</td>\n",
       "    </tr>\n",
       "    <tr>\n",
       "      <th>1</th>\n",
       "      <td>1</td>\n",
       "      <td>2020-01-01 17:33:18.396793587</td>\n",
       "      <td>Paulo</td>\n",
       "      <td>Produto A</td>\n",
       "      <td>9</td>\n",
       "      <td>67.42</td>\n",
       "      <td>606.78</td>\n",
       "      <td>1</td>\n",
       "      <td>2020</td>\n",
       "      <td>505.560688</td>\n",
       "      <td>B</td>\n",
       "    </tr>\n",
       "    <tr>\n",
       "      <th>2</th>\n",
       "      <td>2</td>\n",
       "      <td>2020-01-02 11:06:36.793587174</td>\n",
       "      <td>José</td>\n",
       "      <td>Produto C</td>\n",
       "      <td>1</td>\n",
       "      <td>14.92</td>\n",
       "      <td>14.92</td>\n",
       "      <td>1</td>\n",
       "      <td>2020</td>\n",
       "      <td>12.334824</td>\n",
       "      <td>A</td>\n",
       "    </tr>\n",
       "    <tr>\n",
       "      <th>3</th>\n",
       "      <td>3</td>\n",
       "      <td>2020-01-03 04:39:55.190380761</td>\n",
       "      <td>Maria</td>\n",
       "      <td>Produto B</td>\n",
       "      <td>9</td>\n",
       "      <td>65.09</td>\n",
       "      <td>585.81</td>\n",
       "      <td>1</td>\n",
       "      <td>2020</td>\n",
       "      <td>472.851216</td>\n",
       "      <td>C</td>\n",
       "    </tr>\n",
       "    <tr>\n",
       "      <th>4</th>\n",
       "      <td>4</td>\n",
       "      <td>2020-01-03 22:13:13.587174348</td>\n",
       "      <td>Ana</td>\n",
       "      <td>Produto B</td>\n",
       "      <td>8</td>\n",
       "      <td>28.02</td>\n",
       "      <td>224.16</td>\n",
       "      <td>1</td>\n",
       "      <td>2020</td>\n",
       "      <td>174.989413</td>\n",
       "      <td>B</td>\n",
       "    </tr>\n",
       "  </tbody>\n",
       "</table>\n",
       "</div>"
      ],
      "text/plain": [
       "   sale_id                      sale_date customer    product  quantity  \\\n",
       "0        0            2020-01-01 00:00:00     José  Produto C         4   \n",
       "1        1  2020-01-01 17:33:18.396793587    Paulo  Produto A         9   \n",
       "2        2  2020-01-02 11:06:36.793587174     José  Produto C         1   \n",
       "3        3  2020-01-03 04:39:55.190380761    Maria  Produto B         9   \n",
       "4        4  2020-01-03 22:13:13.587174348      Ana  Produto B         8   \n",
       "\n",
       "   unit_price  total_sale  month  year        cost product_group  \n",
       "0       32.18      128.72      1  2020  112.392212             C  \n",
       "1       67.42      606.78      1  2020  505.560688             B  \n",
       "2       14.92       14.92      1  2020   12.334824             A  \n",
       "3       65.09      585.81      1  2020  472.851216             C  \n",
       "4       28.02      224.16      1  2020  174.989413             B  "
      ]
     },
     "execution_count": 5,
     "metadata": {},
     "output_type": "execute_result"
    }
   ],
   "source": [
    "import pandas as pd\n",
    "\n",
    "sales_df = pd.DataFrame(sales[0])\n",
    "sales_df.head()"
   ]
  },
  {
   "cell_type": "markdown",
   "metadata": {},
   "source": [
    "## Análise Descritiva dos dados"
   ]
  },
  {
   "cell_type": "markdown",
   "metadata": {},
   "source": [
    "- verificação do tipo de dado das colunas (se está coerente)\n",
    "- verificação de dados nulos\n",
    "- verificação de dados duplicados\n"
   ]
  },
  {
   "cell_type": "markdown",
   "metadata": {},
   "source": [
    "## Análise Exploratória dos dados"
   ]
  },
  {
   "cell_type": "markdown",
   "metadata": {},
   "source": [
    "- describe\n",
    "- outliers (boxplot)"
   ]
  },
  {
   "cell_type": "markdown",
   "metadata": {},
   "source": [
    "## Calculando as métricas"
   ]
  },
  {
   "cell_type": "markdown",
   "metadata": {},
   "source": [
    "### Lucro por produto"
   ]
  },
  {
   "cell_type": "markdown",
   "metadata": {},
   "source": [
    "### Produto mais lucrativo"
   ]
  },
  {
   "cell_type": "markdown",
   "metadata": {},
   "source": [
    "### Produtos mais e menos vendidos"
   ]
  },
  {
   "cell_type": "markdown",
   "metadata": {},
   "source": [
    "### 5 primeiros clientes que mais compram"
   ]
  },
  {
   "cell_type": "markdown",
   "metadata": {},
   "source": [
    "### Frequência de compra por cliente"
   ]
  },
  {
   "cell_type": "markdown",
   "metadata": {},
   "source": [
    "## Visualização dos resultados"
   ]
  }
 ],
 "metadata": {
  "kernelspec": {
   "display_name": "Python 3",
   "language": "python",
   "name": "python3"
  },
  "language_info": {
   "codemirror_mode": {
    "name": "ipython",
    "version": 3
   },
   "file_extension": ".py",
   "mimetype": "text/x-python",
   "name": "python",
   "nbconvert_exporter": "python",
   "pygments_lexer": "ipython3",
   "version": "3.11.2"
  }
 },
 "nbformat": 4,
 "nbformat_minor": 2
}
