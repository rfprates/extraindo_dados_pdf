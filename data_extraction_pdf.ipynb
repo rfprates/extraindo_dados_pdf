{
 "cells": [
  {
   "cell_type": "markdown",
   "metadata": {},
   "source": [
    "# Extraindo dados de um arquivo pdf para análise de vendas"
   ]
  },
  {
   "cell_type": "markdown",
   "metadata": {},
   "source": [
    "# Introdução\n",
    "\n",
    "Uma plataforma de e-commerce de moda necessita extrair dados de um arquivo pdf para investigar as métricas-chave relacionadas aos produtos da empresa."
   ]
  },
  {
   "cell_type": "markdown",
   "metadata": {},
   "source": [
    "## Objetivo do projeto\n",
    "\n",
    "Desenvolver as seguintes métricas:\n",
    "\n",
    "* Lucro por produto;\n",
    "* Produto mais lucrativo;\n",
    "* Produtos mais e menos vendidos;\n",
    "* 5 primeiros clientes que mais compram;\n",
    "* Frequência de compra por cliente."
   ]
  },
  {
   "cell_type": "markdown",
   "metadata": {},
   "source": [
    "## Importando o dataset em pdf"
   ]
  },
  {
   "cell_type": "markdown",
   "metadata": {},
   "source": [
    "Para realizar a importação do dataset que se encontra em um arquivo pdf, é necessário a instalação da biblioteca Tabula. Feito isso, importa-se tal biblioteca para leitura do arquivo."
   ]
  },
  {
   "cell_type": "code",
   "execution_count": 1,
   "metadata": {},
   "outputs": [],
   "source": [
    "import tabula\n",
    "\n",
    "path = 'sales_data - dataset.pdf'\n",
    "sales = tabula.read_pdf(input_path = path, stream = True, pages = 1, multiple_tables = False)"
   ]
  }
 ],
 "metadata": {
  "kernelspec": {
   "display_name": "Python 3",
   "language": "python",
   "name": "python3"
  },
  "language_info": {
   "codemirror_mode": {
    "name": "ipython",
    "version": 3
   },
   "file_extension": ".py",
   "mimetype": "text/x-python",
   "name": "python",
   "nbconvert_exporter": "python",
   "pygments_lexer": "ipython3",
   "version": "3.11.2"
  }
 },
 "nbformat": 4,
 "nbformat_minor": 2
}
